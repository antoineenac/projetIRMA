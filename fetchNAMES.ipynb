{
 "cells": [
  {
   "cell_type": "code",
   "execution_count": 1,
   "id": "f43e4147",
   "metadata": {},
   "outputs": [],
   "source": [
    "import requests\n",
    "import time\n",
    "import numpy as np"
   ]
  },
  {
   "cell_type": "code",
   "execution_count": 3,
   "id": "7fc79e83",
   "metadata": {},
   "outputs": [],
   "source": [
    "key = \"RGAPI-0bd772e8-d399-4acf-8934-52c0195aa383\""
   ]
  },
  {
   "cell_type": "markdown",
   "id": "14ce5f53",
   "metadata": {},
   "source": [
    "### COREE "
   ]
  },
  {
   "cell_type": "code",
   "execution_count": 4,
   "id": "6a7acfb9",
   "metadata": {},
   "outputs": [],
   "source": [
    "KR_MASTER_names = []\n",
    "KR_CHALL_names = []"
   ]
  },
  {
   "cell_type": "code",
   "execution_count": 14,
   "id": "02575c7d",
   "metadata": {},
   "outputs": [],
   "source": [
    "master_req = requests.get('https://kr.api.riotgames.com/lol/league/v4/masterleagues/by-queue/RANKED_SOLO_5x5?api_key={}'.format(key)).json()\n",
    "chall_req = requests.get('https://kr.api.riotgames.com/lol/league/v4/grandmasterleagues/by-queue/RANKED_SOLO_5x5?api_key={}'.format(key)).json()"
   ]
  },
  {
   "cell_type": "code",
   "execution_count": 15,
   "id": "27e1e21f",
   "metadata": {},
   "outputs": [],
   "source": [
    "for player in master_req['entries']:\n",
    "    KR_MASTER_names.append(player['summonerName'])\n",
    "\n",
    "for player in chall_req['entries']:\n",
    "    KR_CHALL_names.append(player['summonerName'])"
   ]
  },
  {
   "cell_type": "code",
   "execution_count": 18,
   "id": "ed0e553d",
   "metadata": {},
   "outputs": [],
   "source": [
    "np.save(\"NAMES\\KR_MASTER_names.npy\",np.array(KR_MASTER_names))\n",
    "np.save(\"NAMES\\KR_CHALL_names.npy\",np.array(KR_CHALL_names))"
   ]
  },
  {
   "cell_type": "markdown",
   "id": "d31345ac",
   "metadata": {},
   "source": [
    "### EUW"
   ]
  },
  {
   "cell_type": "code",
   "execution_count": 20,
   "id": "04db5d92",
   "metadata": {},
   "outputs": [],
   "source": [
    "EU_MASTER_names = []\n",
    "EU_CHALL_names = []"
   ]
  },
  {
   "cell_type": "code",
   "execution_count": 21,
   "id": "c959020e",
   "metadata": {},
   "outputs": [],
   "source": [
    "master_req = requests.get('https://euw1.api.riotgames.com/lol/league/v4/masterleagues/by-queue/RANKED_SOLO_5x5?api_key={}'.format(key)).json()\n",
    "chall_req = requests.get('https://euw1.api.riotgames.com/lol/league/v4/grandmasterleagues/by-queue/RANKED_SOLO_5x5?api_key={}'.format(key)).json()"
   ]
  },
  {
   "cell_type": "code",
   "execution_count": 22,
   "id": "f2c6bf0b",
   "metadata": {},
   "outputs": [],
   "source": [
    "for player in master_req['entries']:\n",
    "    EU_MASTER_names.append(player['summonerName'])\n",
    "\n",
    "for player in chall_req['entries']:\n",
    "    EU_CHALL_names.append(player['summonerName'])"
   ]
  },
  {
   "cell_type": "code",
   "execution_count": 26,
   "id": "fec04747",
   "metadata": {},
   "outputs": [],
   "source": [
    "np.save(\"NAMES\\EUW_MASTER_names.npy\",np.array(EU_MASTER_names))\n",
    "np.save(\"NAMES\\EUW_CHALL_names.npy\",np.array(EU_CHALL_names))"
   ]
  },
  {
   "cell_type": "markdown",
   "id": "fd5000c7",
   "metadata": {},
   "source": [
    "### NA"
   ]
  },
  {
   "cell_type": "code",
   "execution_count": 27,
   "id": "24ccd349",
   "metadata": {},
   "outputs": [],
   "source": [
    "NA_MASTER_names = []\n",
    "NA_CHALL_names = []"
   ]
  },
  {
   "cell_type": "code",
   "execution_count": 28,
   "id": "734158f7",
   "metadata": {},
   "outputs": [],
   "source": [
    "master_req = requests.get('https://na1.api.riotgames.com/lol/league/v4/masterleagues/by-queue/RANKED_SOLO_5x5?api_key={}'.format(key)).json()\n",
    "chall_req = requests.get('https://na1.api.riotgames.com/lol/league/v4/grandmasterleagues/by-queue/RANKED_SOLO_5x5?api_key={}'.format(key)).json()"
   ]
  },
  {
   "cell_type": "code",
   "execution_count": 29,
   "id": "a04b502b",
   "metadata": {},
   "outputs": [],
   "source": [
    "for player in master_req['entries']:\n",
    "    NA_MASTER_names.append(player['summonerName'])\n",
    "\n",
    "for player in chall_req['entries']:\n",
    "    NA_CHALL_names.append(player['summonerName'])"
   ]
  },
  {
   "cell_type": "code",
   "execution_count": 31,
   "id": "6db6d6fd",
   "metadata": {},
   "outputs": [],
   "source": [
    "np.save(\"NAMES\\\\NA_MASTER_names.npy\",np.array(NA_MASTER_names))\n",
    "np.save(\"NAMES\\\\NA_CHALL_names.npy\",np.array(NA_CHALL_names))"
   ]
  },
  {
   "cell_type": "code",
   "execution_count": null,
   "id": "9ac44d78",
   "metadata": {},
   "outputs": [],
   "source": []
  }
 ],
 "metadata": {
  "kernelspec": {
   "display_name": "Python 3 (ipykernel)",
   "language": "python",
   "name": "python3"
  },
  "language_info": {
   "codemirror_mode": {
    "name": "ipython",
    "version": 3
   },
   "file_extension": ".py",
   "mimetype": "text/x-python",
   "name": "python",
   "nbconvert_exporter": "python",
   "pygments_lexer": "ipython3",
   "version": "3.9.12"
  }
 },
 "nbformat": 4,
 "nbformat_minor": 5
}
