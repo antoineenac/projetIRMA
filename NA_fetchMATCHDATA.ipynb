{
 "cells": [
  {
   "cell_type": "code",
   "execution_count": 1,
   "id": "54d8f463",
   "metadata": {},
   "outputs": [],
   "source": [
    "import requests\n",
    "import time\n",
    "import numpy as np"
   ]
  },
  {
   "cell_type": "code",
   "execution_count": 3,
   "id": "e8e759c8",
   "metadata": {},
   "outputs": [],
   "source": [
    "NA_matchs_id = np.load('MATCHID\\\\NA_matchs_id.npy')"
   ]
  },
  {
   "cell_type": "code",
   "execution_count": 10,
   "id": "24910c2e",
   "metadata": {},
   "outputs": [],
   "source": [
    "NA_matchs_data = list(np.load(\"MATCHDATA\\\\NA_matchs_data.npy\")"
   ]
  },
  {
   "cell_type": "code",
   "execution_count": 4,
   "id": "52afed62",
   "metadata": {},
   "outputs": [],
   "source": [
    "def add_match(match_id,api_key):\n",
    "    Match = []\n",
    "    try:\n",
    "        req = 'https://america.api.riotgames.com/lol/match/v5/matches/{}?api_key={}'.format(match_id,api_key)\n",
    "        time.sleep(0.9)\n",
    "        r = requests.get(req)\n",
    "        match_info = r.json()\n",
    "        if match_info['info']['queueId']==420:\n",
    "            Blue,Red = [],[]\n",
    "            players = match_info['info']['participants']\n",
    "            Winner = \"Blue\" if players[0]['win'] else \"Red\"\n",
    "            for i in range(len(players)):\n",
    "                if i<5:\n",
    "                    Blue.append(players[i]['individualPosition'])\n",
    "                    Blue.append(players[i]['championName'])\n",
    "                else:\n",
    "                    Red.append(players[i]['individualPosition'])\n",
    "                    Red.append(players[i]['championName'])\n",
    "            Match = [Blue,Red,Winner]\n",
    "    except:\n",
    "        pass\n",
    "    return Match"
   ]
  },
  {
   "cell_type": "code",
   "execution_count": null,
   "id": "52c4a328",
   "metadata": {},
   "outputs": [],
   "source": [
    "def match(key):\n",
    "    m_idss=NA_matchs_id[len(NA_matchs_data):]\n",
    "    c=0\n",
    "    for m in m_idss:\n",
    "        ma = add_match(m,key)\n",
    "        if ma!=[]:\n",
    "            KR_matchs_data.append(ma)\n",
    "            c+=1\n",
    "        if c%100==0 or c==1:\n",
    "            print(\"Matchs ajoutés : {}\\n\".format(c))\n",
    "            print(\"Dernier match ajouté : {}\".format(ma))"
   ]
  },
  {
   "cell_type": "code",
   "execution_count": null,
   "id": "83292600",
   "metadata": {},
   "outputs": [],
   "source": [
    "match(key)"
   ]
  }
 ],
 "metadata": {
  "kernelspec": {
   "display_name": "Python 3 (ipykernel)",
   "language": "python",
   "name": "python3"
  },
  "language_info": {
   "codemirror_mode": {
    "name": "ipython",
    "version": 3
   },
   "file_extension": ".py",
   "mimetype": "text/x-python",
   "name": "python",
   "nbconvert_exporter": "python",
   "pygments_lexer": "ipython3",
   "version": "3.9.7"
  }
 },
 "nbformat": 4,
 "nbformat_minor": 5
}
