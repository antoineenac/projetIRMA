{
 "cells": [
  {
   "cell_type": "code",
   "execution_count": null,
   "id": "b926f1ed",
   "metadata": {},
   "outputs": [],
   "source": [
    "import requests\n",
    "import time\n",
    "import numpy as np"
   ]
  },
  {
   "cell_type": "code",
   "execution_count": null,
   "id": "5df0178f",
   "metadata": {},
   "outputs": [],
   "source": [
    "def get_puuid(list_player,key):\n",
    "    puuids = []\n",
    "    for sum_name in list_player:\n",
    "        try:\n",
    "            req = requests.get('https://kr.api.riotgames.com/lol/summoner/v4/summoners/by-name/{}?api_key={}'.format(region,sum_name,key))\n",
    "            r = req.json()\n",
    "            puuid = r['puuid']\n",
    "            puuids.append(puuid)\n",
    "        except Exception as e:\n",
    "            print(e)\n",
    "        time.sleep(0.9)\n",
    "        if len(puuids)%200==0:\n",
    "            print(\"Nombre de PUUID rapporté : {}\".format(len(puuids)))\n",
    "    return np.array(puuids)"
   ]
  },
  {
   "cell_type": "code",
   "execution_count": null,
   "id": "b1bf19d3",
   "metadata": {},
   "outputs": [],
   "source": [
    "KR_MASTER_names = np.load(\"NAMES\\KR_MASTER_names.npy\")\n",
    "KR_CHALL_names = np.load(\"NAMES\\KR_CHALL_names.npy\")"
   ]
  },
  {
   "cell_type": "code",
   "execution_count": null,
   "id": "1142a96e",
   "metadata": {},
   "outputs": [],
   "source": [
    "KR_MASTER_puuids = get_puuid(KR_MASTER_names,key)\n",
    "np.save(\"PUUIDS\\KR_MASTER_puuids.npy\",KR_MASTER_puuids)"
   ]
  },
  {
   "cell_type": "code",
   "execution_count": null,
   "id": "0e1121bf",
   "metadata": {},
   "outputs": [],
   "source": [
    "KR_CHALL_puuids = get_puuid(KR_CHALL_names,key)\n",
    "np.save(\"PUUIDS\\KR_CHALL_puuids.npy\",KR_CHALL_puuids)"
   ]
  }
 ],
 "metadata": {
  "kernelspec": {
   "display_name": "Python 3 (ipykernel)",
   "language": "python",
   "name": "python3"
  },
  "language_info": {
   "codemirror_mode": {
    "name": "ipython",
    "version": 3
   },
   "file_extension": ".py",
   "mimetype": "text/x-python",
   "name": "python",
   "nbconvert_exporter": "python",
   "pygments_lexer": "ipython3",
   "version": "3.9.7"
  }
 },
 "nbformat": 4,
 "nbformat_minor": 5
}
