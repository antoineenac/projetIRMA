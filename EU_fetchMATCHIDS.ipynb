{
 "cells": [
  {
   "cell_type": "code",
   "execution_count": 12,
   "id": "a76f84b3",
   "metadata": {},
   "outputs": [],
   "source": [
    "import requests\n",
    "import time\n",
    "import numpy as np\n",
    "import random"
   ]
  },
  {
   "cell_type": "code",
   "execution_count": null,
   "id": "a55962c4",
   "metadata": {},
   "outputs": [],
   "source": [
    "EU_MASTER_puuids = np.load('PUUIDS\\EU_MASTER_puuids.npy')\n",
    "EU_CHALL_puuids = np.load('PUUIDS\\EU_CHALL_puuids.npy')"
   ]
  },
  {
   "cell_type": "markdown",
   "id": "20d12973",
   "metadata": {},
   "source": [
    "### On mélange les puuids des master et chall pour la recherche des matchs "
   ]
  },
  {
   "cell_type": "code",
   "execution_count": null,
   "id": "128202ad",
   "metadata": {},
   "outputs": [],
   "source": [
    "EU_puuids = random.shuffle(list(EU_MASTER_puuids)+list(EU_CHALL_puuids))"
   ]
  },
  {
   "cell_type": "code",
   "execution_count": 14,
   "id": "90eb0ac1",
   "metadata": {},
   "outputs": [],
   "source": [
    "def get_matches_id(m_ids,puuids,key):\n",
    "    c=0\n",
    "    for p in puuids:\n",
    "        req = requests.get('https://europe.api.riotgames.com/lol/match/v5/matches/by-puuid/{}/ids?start=0&count=99&api_key={}'.format(p,key))\n",
    "        r = req.json()\n",
    "        try:\n",
    "            for m in r:\n",
    "                m_ids.append(m)\n",
    "            c+=1\n",
    "        except:\n",
    "            print(r)\n",
    "        time.sleep(0.9)\n",
    "        if c%200==0:\n",
    "            print(\"Match ajoutés : {}\".format(c))"
   ]
  },
  {
   "cell_type": "markdown",
   "id": "dd11607d",
   "metadata": {},
   "source": [
    "### Charge en mémoire les id des matchs déja trouvés"
   ]
  },
  {
   "cell_type": "code",
   "execution_count": 10,
   "id": "7680d489",
   "metadata": {},
   "outputs": [],
   "source": [
    "EU_matchs_id = list(np.load(\"MATCHID\\EU_matchs_id.npy\"))"
   ]
  },
  {
   "cell_type": "markdown",
   "id": "0e07197b",
   "metadata": {},
   "source": [
    "### Ajoute à ces matchs les derniers matchs des joueurs dont les puuids ont étés récoltés, et supprime les doublons"
   ]
  },
  {
   "cell_type": "code",
   "execution_count": null,
   "id": "bb7c1846",
   "metadata": {},
   "outputs": [],
   "source": [
    "get_matches_id(EU_matchs_id,EU_puuids,key)"
   ]
  },
  {
   "cell_type": "code",
   "execution_count": null,
   "id": "595f7897",
   "metadata": {},
   "outputs": [],
   "source": [
    "EU_matchs_id = list(set(EU_matchs_id))"
   ]
  },
  {
   "cell_type": "code",
   "execution_count": null,
   "id": "80db4583",
   "metadata": {},
   "outputs": [],
   "source": [
    "np.save(\"MATCHID\\EU_matchs_id.npy\",np.array(EU_matchs_id))"
   ]
  }
 ],
 "metadata": {
  "kernelspec": {
   "display_name": "Python 3 (ipykernel)",
   "language": "python",
   "name": "python3"
  },
  "language_info": {
   "codemirror_mode": {
    "name": "ipython",
    "version": 3
   },
   "file_extension": ".py",
   "mimetype": "text/x-python",
   "name": "python",
   "nbconvert_exporter": "python",
   "pygments_lexer": "ipython3",
   "version": "3.9.7"
  }
 },
 "nbformat": 4,
 "nbformat_minor": 5
}
