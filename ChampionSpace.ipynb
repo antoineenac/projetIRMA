{
 "cells": [
  {
   "cell_type": "code",
   "execution_count": 1,
   "id": "9230e31e",
   "metadata": {},
   "outputs": [],
   "source": [
    "import numpy as np\n",
    "import math\n",
    "import matplotlib.pyplot as plt\n",
    "import pandas as pd"
   ]
  },
  {
   "cell_type": "code",
   "execution_count": 2,
   "id": "83ca0c8a",
   "metadata": {},
   "outputs": [],
   "source": [
    "Champs = {}"
   ]
  },
  {
   "cell_type": "code",
   "execution_count": 4,
   "id": "7f982661",
   "metadata": {},
   "outputs": [],
   "source": [
    "def add_champ():\n",
    "    print(\"Nom du champion\")\n",
    "    name = input()\n",
    "    print(\"HP de base\")\n",
    "    hp = input()\n",
    "    print(\"MaxHp base\")\n",
    "    maxhp = input()\n",
    "    print(\"Mana de base\")\n",
    "    mana = input()\n",
    "    print(\"Portée\")\n",
    "    portee = input()\n",
    "    print(\"Classe\") #directement celle de riot, encodage a reflechir\n",
    "    classe=input()\n",
    "    print(\"Sorts d'Engage\")#nombre de sort d'engage\n",
    "    engage=input()\n",
    "    print(\"Sorts de Peel\") #nombre de sort de peel\n",
    "    peel = input()\n",
    "    print(\"Sorts de degats\") #nombre de sort uniquement pour les degats\n",
    "    deg = input()\n",
    "    print(\"Tank?\")\n",
    "    tank = input()\n",
    "    print(\"Bruiser AD?\")\n",
    "    bruiserad = input()\n",
    "    print(\"Bruiser AP?\")\n",
    "    buiserap = input()\n",
    "    print(\"AP burst?\")\n",
    "    burstap = input()\n",
    "    print(\"AP dps?\")\n",
    "    dpsap = input()\n",
    "    print(\"On hit?\")\n",
    "    onhit = input()\n",
    "    print(\"critique?\")\n",
    "    crit = input()\n",
    "    print(\"lethalite?\")\n",
    "    leta = input()\n",
    "    print(\"support degat\")\n",
    "    supdeg = input()\n",
    "    print(\"support full\")\n",
    "    supful = input()\n",
    "    print(\"TOP?\") #%age de pick a ce role\n",
    "    top = input()\n",
    "    print(\"JGL?\")\n",
    "    jgl = input()\n",
    "    print(\"MID?\")\n",
    "    mid = input()\n",
    "    print(\"ADC?\")\n",
    "    adc = input()\n",
    "    print(\"SUP?\")\n",
    "    sup = input()\n",
    "    Champs[name] = {\"On hit\":onhit, \"Critique\" : crit, \"Lethalité\" : leta, \"Support degats\" : supdeg, \"Support\" : supful,\"Tank\" : tank, \"Bruiser AD\" : bruiserad, \"Bruiser AP\" : bruiserap,\"Burst AP\" :burstap,\"AP DPS\" : dpsap, \"HP\" : hp,\"Mana\" : mana,\"Portee\" : portee,\"Classe\" : classe,\"Engage\" : engage,\"Peel\" : peel,\"Degats\": deg, \"Build\" : build,\"Top\" : top,\"JGL\" : jgl,\"Mid\" : mid,\"ADC\" : adc,\"Sup\" : sup}\n",
    "    "
   ]
  },
  {
   "cell_type": "code",
   "execution_count": 13,
   "id": "3aadc9ce",
   "metadata": {},
   "outputs": [
    {
     "name": "stdout",
     "output_type": "stream",
     "text": [
      "Nom du champion\n",
      "1\n",
      "HP de base\n",
      "2\n",
      "Mana de base\n",
      "3\n",
      "Portée\n",
      "\n",
      "Classe\n",
      "\n",
      "Sorts d'Engage\n",
      "4\n",
      "Sorts de Peel\n",
      "5\n",
      "Sorts de degats\n",
      "6\n",
      "Principal build\n",
      "9\n",
      "TOP?\n",
      "7\n",
      "JGL?\n",
      "52\n",
      "MID?\n",
      "3\n",
      "ADC?\n",
      "4\n",
      "SUP?\n",
      "2\n"
     ]
    }
   ],
   "source": [
    "add_champ()"
   ]
  },
  {
   "cell_type": "code",
   "execution_count": 14,
   "id": "f3db04df",
   "metadata": {},
   "outputs": [
    {
     "data": {
      "text/plain": [
       "{'a': {'0', '0*', '1', '10', '20', '3', '80', 'aa'},\n",
       " '1': {'HP': '2',\n",
       "  'Mana': '3',\n",
       "  'Portee': '',\n",
       "  'Classe': '',\n",
       "  'Engage': '4',\n",
       "  'Peel': '5',\n",
       "  'Degats': '6',\n",
       "  'Build': '9',\n",
       "  'Top': '7',\n",
       "  'JGL': '52',\n",
       "  'Mid': '3',\n",
       "  'ADC': '4',\n",
       "  'Sup': '2'}}"
      ]
     },
     "execution_count": 14,
     "metadata": {},
     "output_type": "execute_result"
    }
   ],
   "source": [
    "Champs"
   ]
  },
  {
   "cell_type": "code",
   "execution_count": 15,
   "id": "2fa5a1de",
   "metadata": {},
   "outputs": [],
   "source": [
    "a= 1"
   ]
  },
  {
   "cell_type": "code",
   "execution_count": null,
   "id": "5c567017",
   "metadata": {},
   "outputs": [],
   "source": []
  }
 ],
 "metadata": {
  "kernelspec": {
   "display_name": "Python 3 (ipykernel)",
   "language": "python",
   "name": "python3"
  },
  "language_info": {
   "codemirror_mode": {
    "name": "ipython",
    "version": 3
   },
   "file_extension": ".py",
   "mimetype": "text/x-python",
   "name": "python",
   "nbconvert_exporter": "python",
   "pygments_lexer": "ipython3",
   "version": "3.9.12"
  }
 },
 "nbformat": 4,
 "nbformat_minor": 5
}
