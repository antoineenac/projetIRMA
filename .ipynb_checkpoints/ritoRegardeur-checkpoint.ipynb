{
 "cells": [
  {
   "cell_type": "code",
   "execution_count": 58,
   "id": "729bd548",
   "metadata": {},
   "outputs": [],
   "source": [
    "import requests\n",
    "import time"
   ]
  },
  {
   "cell_type": "code",
   "execution_count": 4,
   "id": "55ebba3e",
   "metadata": {},
   "outputs": [],
   "source": [
    "clef = 'RGAPI-10062e3a-ad75-4038-9101-786837289f98'"
   ]
  },
  {
   "cell_type": "code",
   "execution_count": 68,
   "id": "5918e726",
   "metadata": {},
   "outputs": [],
   "source": [
    "req = requests.get('https://europe.api.riotgames.com/lol/match/v5/matches/EUW1_6429580663?api_key=RGAPI-88dc05df-ad27-4106-9d6e-9c9688407ea5')"
   ]
  },
  {
   "cell_type": "code",
   "execution_count": 69,
   "id": "d83f83e3",
   "metadata": {},
   "outputs": [],
   "source": [
    "match_info = req.json()"
   ]
  },
  {
   "cell_type": "code",
   "execution_count": 70,
   "id": "79935b2a",
   "metadata": {},
   "outputs": [
    {
     "data": {
      "text/plain": [
       "{'status': {'message': 'Data not found - match file not found',\n",
       "  'status_code': 404}}"
      ]
     },
     "execution_count": 70,
     "metadata": {},
     "output_type": "execute_result"
    }
   ],
   "source": [
    "match_info"
   ]
  },
  {
   "cell_type": "code",
   "execution_count": 27,
   "id": "8bd312ef",
   "metadata": {},
   "outputs": [
    {
     "data": {
      "text/plain": [
       "'SOLO'"
      ]
     },
     "execution_count": 27,
     "metadata": {},
     "output_type": "execute_result"
    }
   ],
   "source": [
    "['individualPosition','championId',\"win\"]"
   ]
  },
  {
   "cell_type": "code",
   "execution_count": 78,
   "id": "e37e31da",
   "metadata": {},
   "outputs": [],
   "source": [
    "Matches = []"
   ]
  },
  {
   "cell_type": "code",
   "execution_count": 56,
   "id": "48da100c",
   "metadata": {},
   "outputs": [],
   "source": [
    "def add_matchs(id_base,api_key):\n",
    "    req = 'https://europe.api.riotgames.com/lol/match/v5/matches/EUW1_{}?api_key={}'.format(id_base,api_key)\n",
    "    r = requests.get(req)\n",
    "    match_info = r.json()\n",
    "    if match_info['info']['queueId']==420:\n",
    "        Blue,Red = [],[]\n",
    "        players = match_info['info']['participants']\n",
    "        Winner = \"Blue\" if players[0]['win'] else \"Red\"\n",
    "        for i in range(len(players)):\n",
    "            if i<5:\n",
    "                Blue.append(players[i]['individualPosition'])\n",
    "                Blue.append(players[i]['championName'])\n",
    "            else:\n",
    "                Red.append(players[i]['individualPosition'])\n",
    "                Red.append(players[i]['championName'])\n",
    "        Matches.append([Blue,Red,Winner])"
   ]
  },
  {
   "cell_type": "code",
   "execution_count": 57,
   "id": "4b44a3f8",
   "metadata": {},
   "outputs": [
    {
     "name": "stdout",
     "output_type": "stream",
     "text": [
      "[]\n",
      "[[['TOP', 'Riven', 'JUNGLE', 'Evelynn', 'MIDDLE', 'Zed', 'BOTTOM', 'Jhin', 'UTILITY', 'Lux'], ['TOP', 'Chogath', 'JUNGLE', 'Khazix', 'MIDDLE', 'Orianna', 'BOTTOM', 'Caitlyn', 'UTILITY', 'Heimerdinger'], 'Blue']]\n"
     ]
    }
   ],
   "source": [
    "print(Matches)\n",
    "add_matchs(6429580661,'RGAPI-88dc05df-ad27-4106-9d6e-9c9688407ea5')\n",
    "print(Matches)"
   ]
  },
  {
   "cell_type": "code",
   "execution_count": 79,
   "id": "ec78b257",
   "metadata": {},
   "outputs": [],
   "source": [
    "def add_100_match(id_base,api_key):\n",
    "    c = 0\n",
    "    while c<10000:\n",
    "        try:\n",
    "            add_matchs(id_base,api_key)\n",
    "        except:\n",
    "            pass\n",
    "        time.sleep(0.9)\n",
    "        id_base+=1\n",
    "        c+=1"
   ]
  },
  {
   "cell_type": "code",
   "execution_count": 80,
   "id": "a4e75845",
   "metadata": {},
   "outputs": [
    {
     "ename": "KeyboardInterrupt",
     "evalue": "",
     "output_type": "error",
     "traceback": [
      "\u001b[1;31m---------------------------------------------------------------------------\u001b[0m",
      "\u001b[1;31mKeyboardInterrupt\u001b[0m                         Traceback (most recent call last)",
      "\u001b[1;32m~\\AppData\\Local\\Temp/ipykernel_8620/768580886.py\u001b[0m in \u001b[0;36m<module>\u001b[1;34m\u001b[0m\n\u001b[1;32m----> 1\u001b[1;33m \u001b[0madd_100_match\u001b[0m\u001b[1;33m(\u001b[0m\u001b[1;36m6429580661\u001b[0m\u001b[1;33m,\u001b[0m\u001b[1;34m'RGAPI-88dc05df-ad27-4106-9d6e-9c9688407ea5'\u001b[0m\u001b[1;33m)\u001b[0m\u001b[1;33m\u001b[0m\u001b[1;33m\u001b[0m\u001b[0m\n\u001b[0m",
      "\u001b[1;32m~\\AppData\\Local\\Temp/ipykernel_8620/722883739.py\u001b[0m in \u001b[0;36madd_100_match\u001b[1;34m(id_base, api_key)\u001b[0m\n\u001b[0;32m      6\u001b[0m         \u001b[1;32mexcept\u001b[0m\u001b[1;33m:\u001b[0m\u001b[1;33m\u001b[0m\u001b[1;33m\u001b[0m\u001b[0m\n\u001b[0;32m      7\u001b[0m             \u001b[1;32mpass\u001b[0m\u001b[1;33m\u001b[0m\u001b[1;33m\u001b[0m\u001b[0m\n\u001b[1;32m----> 8\u001b[1;33m         \u001b[0mtime\u001b[0m\u001b[1;33m.\u001b[0m\u001b[0msleep\u001b[0m\u001b[1;33m(\u001b[0m\u001b[1;36m0.9\u001b[0m\u001b[1;33m)\u001b[0m\u001b[1;33m\u001b[0m\u001b[1;33m\u001b[0m\u001b[0m\n\u001b[0m\u001b[0;32m      9\u001b[0m         \u001b[0mid_base\u001b[0m\u001b[1;33m+=\u001b[0m\u001b[1;36m1\u001b[0m\u001b[1;33m\u001b[0m\u001b[1;33m\u001b[0m\u001b[0m\n\u001b[0;32m     10\u001b[0m         \u001b[0mc\u001b[0m\u001b[1;33m+=\u001b[0m\u001b[1;36m1\u001b[0m\u001b[1;33m\u001b[0m\u001b[1;33m\u001b[0m\u001b[0m\n",
      "\u001b[1;31mKeyboardInterrupt\u001b[0m: "
     ]
    }
   ],
   "source": [
    "add_100_match(6429580661,'RGAPI-88dc05df-ad27-4106-9d6e-9c9688407ea5')"
   ]
  },
  {
   "cell_type": "code",
   "execution_count": 81,
   "id": "32585d61",
   "metadata": {},
   "outputs": [
    {
     "data": {
      "text/plain": [
       "213"
      ]
     },
     "execution_count": 81,
     "metadata": {},
     "output_type": "execute_result"
    }
   ],
   "source": [
    "len(Matches)"
   ]
  },
  {
   "cell_type": "code",
   "execution_count": null,
   "id": "cc340060",
   "metadata": {},
   "outputs": [],
   "source": []
  }
 ],
 "metadata": {
  "kernelspec": {
   "display_name": "Python 3 (ipykernel)",
   "language": "python",
   "name": "python3"
  },
  "language_info": {
   "codemirror_mode": {
    "name": "ipython",
    "version": 3
   },
   "file_extension": ".py",
   "mimetype": "text/x-python",
   "name": "python",
   "nbconvert_exporter": "python",
   "pygments_lexer": "ipython3",
   "version": "3.9.7"
  }
 },
 "nbformat": 4,
 "nbformat_minor": 5
}
