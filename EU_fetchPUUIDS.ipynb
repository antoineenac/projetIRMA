{
 "cells": [
  {
   "cell_type": "code",
   "execution_count": null,
   "id": "6af1230b",
   "metadata": {},
   "outputs": [],
   "source": [
    "import requests\n",
    "import time\n",
    "import numpy as np"
   ]
  },
  {
   "cell_type": "code",
   "execution_count": null,
   "id": "db9868c2",
   "metadata": {},
   "outputs": [],
   "source": [
    "key = \"RGAPI-0bd772e8-d399-4acf-8934-52c0195aa383\""
   ]
  },
  {
   "cell_type": "code",
   "execution_count": null,
   "id": "346f5960",
   "metadata": {},
   "outputs": [],
   "source": [
    "def get_puuid(list_player,key):\n",
    "    puuids = []\n",
    "    for sum_name in list_player:\n",
    "        try:\n",
    "            req = requests.get('https://euw1.api.riotgames.com/lol/summoner/v4/summoners/by-name/{}?api_key={}'.format(region,sum_name,key))\n",
    "            r = req.json()\n",
    "            puuid = r['puuid']\n",
    "            puuids.append(puuid)\n",
    "        except Exception as e:\n",
    "            print(e)\n",
    "        time.sleep(0.9)\n",
    "        if len(puuids)%200==0:\n",
    "            print(\"Nombre de PUUID rapporté : {}\".format(len(puuids)))\n",
    "    return np.array(puuids)"
   ]
  },
  {
   "cell_type": "code",
   "execution_count": null,
   "id": "d525b3e4",
   "metadata": {},
   "outputs": [],
   "source": [
    "EU_MASTER_names = np.load(\"NAMES\\EU_MASTER_names.npy\")\n",
    "EU_CHALL_names = np.load(\"NAMES\\EU_CHALL_names.npy\")"
   ]
  },
  {
   "cell_type": "code",
   "execution_count": null,
   "id": "f455a12c",
   "metadata": {},
   "outputs": [],
   "source": [
    "EU_MASTER_puuids = get_puuid(EU_MASTER_names,key)\n",
    "np.save(\"PUUIDS\\EU_MASTER_puuids.npy\",EU_MASTER_puuids)"
   ]
  },
  {
   "cell_type": "code",
   "execution_count": null,
   "id": "20a3c565",
   "metadata": {},
   "outputs": [],
   "source": [
    "EU_CHALL_puuids = get_puuid(EU_CHALL_names,key)\n",
    "np.save(\"PUUIDS\\EU_CHALL_puuids.npy\",EU_CHALL_puuids)"
   ]
  }
 ],
 "metadata": {
  "kernelspec": {
   "display_name": "Python 3 (ipykernel)",
   "language": "python",
   "name": "python3"
  },
  "language_info": {
   "codemirror_mode": {
    "name": "ipython",
    "version": 3
   },
   "file_extension": ".py",
   "mimetype": "text/x-python",
   "name": "python",
   "nbconvert_exporter": "python",
   "pygments_lexer": "ipython3",
   "version": "3.9.12"
  }
 },
 "nbformat": 4,
 "nbformat_minor": 5
}
