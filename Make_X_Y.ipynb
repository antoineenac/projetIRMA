{
 "cells": [
  {
   "cell_type": "code",
   "execution_count": 60,
   "id": "421d620c",
   "metadata": {},
   "outputs": [],
   "source": [
    "import numpy as np\n",
    "from os import listdir\n",
    "from os.path import isfile, join\n",
    "import json"
   ]
  },
  {
   "cell_type": "code",
   "execution_count": 45,
   "id": "d9babcd3",
   "metadata": {},
   "outputs": [],
   "source": [
    "f = open('norm_vector_space.json',encoding=\"utf8\")\n",
    "Champions = json.load(f)\n",
    "Champions['FiddleSticks'] = Champions.pop('Fiddlesticks')"
   ]
  },
  {
   "cell_type": "code",
   "execution_count": 11,
   "id": "6cd3b96f",
   "metadata": {},
   "outputs": [],
   "source": [
    "match_path = 'C:\\\\Users\\\\antoine h\\\\Desktop\\\\projetIRMA\\\\data\\\\'"
   ]
  },
  {
   "cell_type": "code",
   "execution_count": 16,
   "id": "818cbc6d",
   "metadata": {},
   "outputs": [],
   "source": [
    "def fusion_matchs():\n",
    "    name_matchs = [f for f in listdir(match_path) if isfile(join(match_path, f))]\n",
    "    Matchs = []\n",
    "    for name in name_matchs:\n",
    "        Matchs = Matchs + list(np.load(match_path+name,allow_pickle=True))\n",
    "    return np.array(Matchs)"
   ]
  },
  {
   "cell_type": "code",
   "execution_count": 19,
   "id": "a6192007",
   "metadata": {},
   "outputs": [],
   "source": [
    "Matchs = fusion_matchs()"
   ]
  },
  {
   "cell_type": "code",
   "execution_count": 51,
   "id": "92bf57b1",
   "metadata": {},
   "outputs": [],
   "source": [
    "def replace_name_by_vectors(matchs):\n",
    "    vectored = []\n",
    "    c=0\n",
    "    for m in matchs:\n",
    "        try:\n",
    "            b_i_top,b_i_jgl,b_i_mid,b_i_adc,b_i_sup = m[0].index('TOP'), m[0].index('JUNGLE'), m[0].index('MIDDLE'), m[0].index('BOTTOM'), m[0].index('UTILITY')\n",
    "            r_i_top,r_i_jgl,r_i_mid,r_i_adc,r_i_sup = m[1].index('TOP'), m[1].index('JUNGLE'), m[1].index('MIDDLE'), m[1].index('BOTTOM'), m[1].index('UTILITY')\n",
    "            Blue = [Champions[m[0][b_i_top+1]],Champions[m[0][b_i_jgl+1]],Champions[m[0][b_i_mid+1]],Champions[m[0][b_i_adc+1]],Champions[m[0][b_i_sup+1]]]\n",
    "            Red = [Champions[m[1][r_i_top+1]],Champions[m[1][r_i_jgl+1]],Champions[m[1][r_i_mid+1]],Champions[m[1][r_i_adc+1]],Champions[m[1][r_i_sup+1]]]\n",
    "            vectored.append([Blue,Red,m[2]])\n",
    "        except Exception as e:\n",
    "            pass\n",
    "    return vectored"
   ]
  },
  {
   "cell_type": "code",
   "execution_count": 61,
   "id": "46a7ec6a",
   "metadata": {},
   "outputs": [],
   "source": [
    "Vectored = replace_name_by_vectors(Matchs)"
   ]
  },
  {
   "cell_type": "code",
   "execution_count": 55,
   "id": "88995fc1",
   "metadata": {},
   "outputs": [],
   "source": [
    "def make_train_test(vectored):\n",
    "    X_train,Y_train = [],[]\n",
    "    X_test,Y_test = [],[]\n",
    "    for i in range(len(vectored)):\n",
    "        if i%10==0 or i%10==1:\n",
    "            X_test.append([vectored[i][0],vectored[i][1]])\n",
    "            Y_test.append(1) if vectored[i][2]=='Blue' else Y_test.append(0)\n",
    "        else:\n",
    "            X_train.append([vectored[i][0],vectored[i][1]])\n",
    "            Y_train.append(1) if vectored[i][2]=='Blue' else Y_train.append(0)\n",
    "    return(np.array(X_train),np.array(Y_train),np.array(X_test),np.array(Y_test))"
   ]
  },
  {
   "cell_type": "code",
   "execution_count": 56,
   "id": "e1c1f900",
   "metadata": {},
   "outputs": [],
   "source": [
    "X_train,Y_train,X_test,Y_test = make_train_test(Vectored)"
   ]
  },
  {
   "cell_type": "code",
   "execution_count": 59,
   "id": "cdd9423e",
   "metadata": {},
   "outputs": [],
   "source": [
    "np.save(\"X_train.npy\",X_train)\n",
    "np.save(\"X_test.npy\",X_test)\n",
    "np.save(\"Y_train.npy\",Y_train)\n",
    "np.save(\"Y_test.npy\",Y_test)"
   ]
  },
  {
   "cell_type": "code",
   "execution_count": null,
   "id": "0fef785f",
   "metadata": {},
   "outputs": [],
   "source": []
  }
 ],
 "metadata": {
  "kernelspec": {
   "display_name": "Python 3 (ipykernel)",
   "language": "python",
   "name": "python3"
  },
  "language_info": {
   "codemirror_mode": {
    "name": "ipython",
    "version": 3
   },
   "file_extension": ".py",
   "mimetype": "text/x-python",
   "name": "python",
   "nbconvert_exporter": "python",
   "pygments_lexer": "ipython3",
   "version": "3.9.12"
  }
 },
 "nbformat": 4,
 "nbformat_minor": 5
}
