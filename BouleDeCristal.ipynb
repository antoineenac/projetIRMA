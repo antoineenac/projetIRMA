{
 "cells": [
  {
   "cell_type": "code",
   "execution_count": 1,
   "id": "06e9ebdf",
   "metadata": {},
   "outputs": [
    {
     "name": "stdout",
     "output_type": "stream",
     "text": [
      "tensorflow version: 2.10.0\n",
      "numpy version: 1.20.3\n",
      "pandas version: 1.3.4\n",
      "scikit-learn version: 0.24.2\n"
     ]
    }
   ],
   "source": [
    "import numpy as np\n",
    "import tensorflow as tf\n",
    "tf.config.run_functions_eagerly(True)\n",
    "from tensorflow import __version__ as tf_version, float32 as tf_float32, Variable\n",
    "from tensorflow.keras import Sequential, Model\n",
    "from tensorflow.keras.backend import variable, dot as k_dot, sigmoid, relu\n",
    "from tensorflow.keras.layers import Dense, Input, Concatenate, Layer\n",
    "from tensorflow.keras.losses import SparseCategoricalCrossentropy\n",
    "from tensorflow.keras.utils import plot_model\n",
    "from tensorflow.random import set_seed as tf_set_seed\n",
    "from numpy import __version__ as np_version, unique, array, mean, argmax\n",
    "from numpy.random import seed as np_seed, choice\n",
    "from pandas import __version__ as pd_version, read_csv, DataFrame, concat\n",
    "from sklearn import __version__ as sk_version\n",
    "from sklearn.preprocessing import normalize\n",
    "print(\"tensorflow version:\", tf_version)\n",
    "print(\"numpy version:\", np_version)\n",
    "print(\"pandas version:\", pd_version)\n",
    "print(\"scikit-learn version:\", sk_version)"
   ]
  },
  {
   "cell_type": "code",
   "execution_count": 2,
   "id": "2ccf0664",
   "metadata": {},
   "outputs": [],
   "source": [
    "X_train,Y_train = np.load(\"X_train.npy\"),np.load(\"Y_train.npy\")\n",
    "X_test,Y_test = np.load(\"X_test.npy\"),np.load(\"Y_test.npy\")"
   ]
  },
  {
   "cell_type": "code",
   "execution_count": 3,
   "id": "464aeeab",
   "metadata": {},
   "outputs": [
    {
     "data": {
      "text/plain": [
       "((66757, 2, 5, 49), (16690, 2, 5, 49))"
      ]
     },
     "execution_count": 3,
     "metadata": {},
     "output_type": "execute_result"
    }
   ],
   "source": [
    "X_train.shape,X_test.shape"
   ]
  },
  {
   "cell_type": "code",
   "execution_count": 4,
   "id": "4c779e85",
   "metadata": {},
   "outputs": [],
   "source": [
    "#[blue_top,red_top,blue_jgl,red_jgl,blue_mid,red_mid,blue_adc,red_adc,blue_sup,red_sup]\n",
    "def cut_down_data(X):\n",
    "    blue_top,red_top,blue_jgl,red_jgl,blue_mid,red_mid,blue_adc,red_adc,blue_sup,red_sup = [],[],[],[],[],[],[],[],[],[]\n",
    "    for x in X:\n",
    "        blue_top.append(x[0][0])\n",
    "        red_top.append(x[1][0])\n",
    "        blue_jgl.append(x[0][1])\n",
    "        red_jgl.append(x[1][1])\n",
    "        blue_mid.append(x[0][2])\n",
    "        red_mid.append(x[1][2])\n",
    "        blue_adc.append(x[0][3])\n",
    "        red_adc.append(x[1][3])\n",
    "        blue_sup.append(x[0][4])\n",
    "        red_sup.append(x[1][4])\n",
    "    return(np.array(blue_top),np.array(red_top),np.array(blue_jgl),np.array(red_jgl),np.array(blue_mid),np.array(red_mid),np.array(blue_adc),np.array(red_adc),np.array(blue_sup),np.array(red_sup))"
   ]
  },
  {
   "cell_type": "code",
   "execution_count": 5,
   "id": "f20ed940",
   "metadata": {},
   "outputs": [],
   "source": [
    "Train_blue_top,Train_red_top,Train_blue_jgl,Train_red_jgl,Train_blue_mid,Train_red_mid,Train_blue_adc,Train_red_adc,Train_blue_sup,Train_red_sup = cut_down_data(X_train)\n",
    "Test_blue_top,Test_red_top,Test_blue_jgl,Test_red_jgl,Test_blue_mid,Test_red_mid,Test_blue_adc,Test_red_adc,Test_blue_sup,Test_red_sup = cut_down_data(X_test)"
   ]
  },
  {
   "cell_type": "code",
   "execution_count": 11,
   "id": "44a48e04",
   "metadata": {},
   "outputs": [],
   "source": [
    "Train_data = [Train_blue_top,Train_red_top,Train_blue_jgl,Train_red_jgl,Train_blue_mid,Train_red_mid,Train_blue_adc,Train_red_adc,Train_blue_sup,Train_red_sup]\n",
    "Test_data = [Test_blue_top,Test_red_top,Test_blue_jgl,Test_red_jgl,Test_blue_mid,Test_red_mid,Test_blue_adc,Test_red_adc,Test_blue_sup,Test_red_sup]"
   ]
  },
  {
   "cell_type": "code",
   "execution_count": 7,
   "id": "204b8181",
   "metadata": {},
   "outputs": [
    {
     "data": {
      "text/plain": [
       "(16690, 49)"
      ]
     },
     "execution_count": 7,
     "metadata": {},
     "output_type": "execute_result"
    }
   ],
   "source": [
    "Test_red_top.shape"
   ]
  },
  {
   "cell_type": "code",
   "execution_count": 8,
   "id": "3013f257",
   "metadata": {},
   "outputs": [],
   "source": [
    "_matchup_shape = 2 * X_train.shape[-1]\n",
    "_champion_shape = X_train.shape[-1]"
   ]
  },
  {
   "cell_type": "code",
   "execution_count": 9,
   "id": "e6f34a0a",
   "metadata": {},
   "outputs": [
    {
     "name": "stdout",
     "output_type": "stream",
     "text": [
      "Model: \"BDC\"\n",
      "__________________________________________________________________________________________________\n",
      " Layer (type)                   Output Shape         Param #     Connected to                     \n",
      "==================================================================================================\n",
      " Blue_top_input (InputLayer)    [(None, 49)]         0           []                               \n",
      "                                                                                                  \n",
      " Red_top_input (InputLayer)     [(None, 49)]         0           []                               \n",
      "                                                                                                  \n",
      " Blue_jgl_input (InputLayer)    [(None, 49)]         0           []                               \n",
      "                                                                                                  \n",
      " Red_jgl_input (InputLayer)     [(None, 49)]         0           []                               \n",
      "                                                                                                  \n",
      " Blue_mid_input (InputLayer)    [(None, 49)]         0           []                               \n",
      "                                                                                                  \n",
      " Red_mid_input (InputLayer)     [(None, 49)]         0           []                               \n",
      "                                                                                                  \n",
      " Blue_adc_input (InputLayer)    [(None, 49)]         0           []                               \n",
      "                                                                                                  \n",
      " Red_adc_input (InputLayer)     [(None, 49)]         0           []                               \n",
      "                                                                                                  \n",
      " Blue_sup_input (InputLayer)    [(None, 49)]         0           []                               \n",
      "                                                                                                  \n",
      " Red_sup_input (InputLayer)     [(None, 49)]         0           []                               \n",
      "                                                                                                  \n",
      " Blue_jgl_top_input (Concatenat  (None, 98)          0           ['Blue_top_input[0][0]',         \n",
      " e)                                                               'Blue_jgl_input[0][0]']         \n",
      "                                                                                                  \n",
      " Red_jgl_top_input (Concatenate  (None, 98)          0           ['Red_top_input[0][0]',          \n",
      " )                                                                'Red_jgl_input[0][0]']          \n",
      "                                                                                                  \n",
      " Blue_jgl_mid_input (Concatenat  (None, 98)          0           ['Blue_mid_input[0][0]',         \n",
      " e)                                                               'Blue_jgl_input[0][0]']         \n",
      "                                                                                                  \n",
      " Red_jgl_mid_input (Concatenate  (None, 98)          0           ['Red_mid_input[0][0]',          \n",
      " )                                                                'Red_jgl_input[0][0]']          \n",
      "                                                                                                  \n",
      " Merged_adc_input (Concatenate)  (None, 98)          0           ['Blue_adc_input[0][0]',         \n",
      "                                                                  'Red_adc_input[0][0]']          \n",
      "                                                                                                  \n",
      " Sup_matchup_input (Concatenate  (None, 98)          0           ['Blue_sup_input[0][0]',         \n",
      " )                                                                'Red_sup_input[0][0]']          \n",
      "                                                                                                  \n",
      " Blue_jgl_sup_input (Concatenat  (None, 98)          0           ['Blue_sup_input[0][0]',         \n",
      " e)                                                               'Blue_jgl_input[0][0]']         \n",
      "                                                                                                  \n",
      " Red_jgl_sup_input (Concatenate  (None, 98)          0           ['Red_sup_input[0][0]',          \n",
      " )                                                                'Red_jgl_input[0][0]']          \n",
      "                                                                                                  \n",
      " Blue_jgl_top (Dense)           (None, 16)           1584        ['Blue_jgl_top_input[0][0]']     \n",
      "                                                                                                  \n",
      " Red_jgl_top (Dense)            (None, 16)           1584        ['Red_jgl_top_input[0][0]']      \n",
      "                                                                                                  \n",
      " Blue_jgl_mid (Dense)           (None, 16)           1584        ['Blue_jgl_mid_input[0][0]']     \n",
      "                                                                                                  \n",
      " Red_jgl_mid (Dense)            (None, 16)           1584        ['Red_jgl_mid_input[0][0]']      \n",
      "                                                                                                  \n",
      " ADC_matchup (Dense)            (None, 32)           3168        ['Merged_adc_input[0][0]']       \n",
      "                                                                                                  \n",
      " Sup_matchup (Dense)            (None, 32)           3168        ['Sup_matchup_input[0][0]']      \n",
      "                                                                                                  \n",
      " Blue_jgl_sup (Dense)           (None, 16)           1584        ['Blue_jgl_sup_input[0][0]']     \n",
      "                                                                                                  \n",
      " Red_jgl_sup (Dense)            (None, 16)           1584        ['Red_jgl_sup_input[0][0]']      \n",
      "                                                                                                  \n",
      " Merged_top_input (Concatenate)  (None, 98)          0           ['Blue_top_input[0][0]',         \n",
      "                                                                  'Red_top_input[0][0]']          \n",
      "                                                                                                  \n",
      " jgl_top_matchup_input (Concate  (None, 32)          0           ['Blue_jgl_top[0][0]',           \n",
      " nate)                                                            'Red_jgl_top[0][0]']            \n",
      "                                                                                                  \n",
      " Merged_mid_input (Concatenate)  (None, 98)          0           ['Blue_mid_input[0][0]',         \n",
      "                                                                  'Red_mid_input[0][0]']          \n",
      "                                                                                                  \n",
      " Jgl_mid_matchup_input (Concate  (None, 32)          0           ['Blue_jgl_mid[0][0]',           \n",
      " nate)                                                            'Red_jgl_mid[0][0]']            \n",
      "                                                                                                  \n",
      " Botlane_matchup_input (Concate  (None, 64)          0           ['ADC_matchup[0][0]',            \n",
      " nate)                                                            'Sup_matchup[0][0]']            \n",
      "                                                                                                  \n",
      " Merged_jgl_sup_input (Concaten  (None, 32)          0           ['Blue_jgl_sup[0][0]',           \n",
      " ate)                                                             'Red_jgl_sup[0][0]']            \n",
      "                                                                                                  \n",
      " Top_matchup (Dense)            (None, 32)           3168        ['Merged_top_input[0][0]']       \n",
      "                                                                                                  \n"
     ]
    },
    {
     "name": "stdout",
     "output_type": "stream",
     "text": [
      " jgl_top_matchup (Dense)        (None, 8)            264         ['jgl_top_matchup_input[0][0]']  \n",
      "                                                                                                  \n",
      " Mid_matchup (Dense)            (None, 32)           3168        ['Merged_mid_input[0][0]']       \n",
      "                                                                                                  \n",
      " Jgl_mid_matchup (Dense)        (None, 8)            264         ['Jgl_mid_matchup_input[0][0]']  \n",
      "                                                                                                  \n",
      " Botlane_matchup (Dense)        (None, 16)           1040        ['Botlane_matchup_input[0][0]']  \n",
      "                                                                                                  \n",
      " Merged_jgl_sup (Dense)         (None, 8)            264         ['Merged_jgl_sup_input[0][0]']   \n",
      "                                                                                                  \n",
      " Merged_all_input (Concatenate)  (None, 104)         0           ['Top_matchup[0][0]',            \n",
      "                                                                  'jgl_top_matchup[0][0]',        \n",
      "                                                                  'Mid_matchup[0][0]',            \n",
      "                                                                  'Jgl_mid_matchup[0][0]',        \n",
      "                                                                  'Botlane_matchup[0][0]',        \n",
      "                                                                  'Merged_jgl_sup[0][0]']         \n",
      "                                                                                                  \n",
      " Merged_all (Dense)             (None, 32)           3360        ['Merged_all_input[0][0]']       \n",
      "                                                                                                  \n",
      " Output (Dense)                 (None, 1)            33          ['Merged_all[0][0]']             \n",
      "                                                                                                  \n",
      "==================================================================================================\n",
      "Total params: 27,401\n",
      "Trainable params: 27,401\n",
      "Non-trainable params: 0\n",
      "__________________________________________________________________________________________________\n"
     ]
    }
   ],
   "source": [
    "tf_set_seed(1102)\n",
    "np_seed(1102)\n",
    "\n",
    "blue_top_input = Input(shape = _champion_shape, name = \"Blue_top_input\")\n",
    "red_top_input = Input(shape = _champion_shape, name = \"Red_top_input\")\n",
    "top_input = Concatenate(name = \"Merged_top_input\")([blue_top_input,red_top_input])\n",
    "top_matchup = Dense(32, activation = 'relu', name=\"Top_matchup\")(top_input)\n",
    "\n",
    "blue_jgl_input = Input(shape = _champion_shape, name = \"Blue_jgl_input\")\n",
    "red_jgl_input = Input(shape = _champion_shape, name = \"Red_jgl_input\")\n",
    "jgl_input = Concatenate(name = \"Merged_jgl_input\")([blue_jgl_input,red_jgl_input])\n",
    "jgl_matchup = Dense(32, activation = 'relu',name = 'Jgl_matchup')(jgl_input) \n",
    "\n",
    "blue_jgl_top_input = Concatenate(name = 'Blue_jgl_top_input')([blue_top_input,blue_jgl_input])\n",
    "blue_jgl_top = Dense(16,activation='relu', name = 'Blue_jgl_top')(blue_jgl_top_input)\n",
    "red_jgl_top_input = Concatenate(name = 'Red_jgl_top_input')([red_top_input,red_jgl_input])\n",
    "red_jgl_top = Dense(16,activation='relu', name = 'Red_jgl_top')(red_jgl_top_input)\n",
    "\n",
    "jgl_top_input = Concatenate(name = \"jgl_top_matchup_input\")([blue_jgl_top,red_jgl_top])\n",
    "jgl_top_matchup = Dense(8, name = 'jgl_top_matchup')(jgl_top_input) \n",
    "\n",
    "\n",
    "blue_mid_input = Input(shape = _champion_shape, name = \"Blue_mid_input\")\n",
    "red_mid_input = Input(shape = _champion_shape,name = 'Red_mid_input')\n",
    "mid_input = Concatenate(name='Merged_mid_input')([blue_mid_input,red_mid_input])\n",
    "mid_matchup = Dense(32, activation = 'relu',name = \"Mid_matchup\")(mid_input)\n",
    "\n",
    "blue_jgl_mid_input = Concatenate(name = 'Blue_jgl_mid_input')([blue_mid_input,blue_jgl_input])\n",
    "blue_jgl_mid = Dense(16,activation='relu',name='Blue_jgl_mid')(blue_jgl_mid_input)\n",
    "red_jgl_mid_input = Concatenate(name='Red_jgl_mid_input')([red_mid_input,red_jgl_input])\n",
    "red_jgl_mid = Dense(16,activation='relu',name='Red_jgl_mid')(red_jgl_mid_input)\n",
    "\n",
    "jgl_mid_input = Concatenate(name='Jgl_mid_matchup_input')([blue_jgl_mid,red_jgl_mid])\n",
    "jgl_mid_matchup = Dense(8,name='Jgl_mid_matchup')(jgl_mid_input) \n",
    "\n",
    "\n",
    "\n",
    "blue_adc_input = Input(shape = _champion_shape,name='Blue_adc_input')\n",
    "red_adc_input = Input(shape = _champion_shape,name='Red_adc_input')\n",
    "adc_input = Concatenate(name='Merged_adc_input')([blue_adc_input,red_adc_input])\n",
    "adc_matchup = Dense(32, activation = 'relu',name='ADC_matchup')(adc_input)\n",
    "\n",
    "blue_sup_input = Input(shape = _champion_shape,name='Blue_sup_input')\n",
    "red_sup_input = Input(shape = _champion_shape,name='Red_sup_input')\n",
    "sup_input = Concatenate(name='Sup_matchup_input')([blue_sup_input,red_sup_input])\n",
    "sup_matchup = Dense(32, activation = 'relu',name='Sup_matchup')(sup_input)\n",
    "\n",
    "botlane_input = Concatenate(name='Botlane_matchup_input')([adc_matchup,sup_matchup])\n",
    "botlane_matchup = Dense(16,activation='relu',name='Botlane_matchup')(botlane_input)\n",
    "\n",
    "blue_jgl_sup_input = Concatenate(name='Blue_jgl_sup_input')([blue_sup_input,blue_jgl_input])\n",
    "blue_jgl_sup = Dense(16,activation='relu',name='Blue_jgl_sup')(blue_jgl_sup_input)\n",
    "red_jgl_sup_input = Concatenate(name='Red_jgl_sup_input')([red_sup_input,red_jgl_input])\n",
    "red_jgl_sup = Dense(16,activation='relu',name='Red_jgl_sup')(red_jgl_sup_input)\n",
    "\n",
    "jgl_sup_input = Concatenate(name='Merged_jgl_sup_input')([blue_jgl_sup,red_jgl_sup])\n",
    "jgl_sup_matchup = Dense(8,name = 'Merged_jgl_sup')(jgl_sup_input) \n",
    "\n",
    "\n",
    "all_input = Concatenate(name = \"Merged_all_input\")([top_matchup,jgl_top_matchup,mid_matchup,jgl_mid_matchup,botlane_matchup,jgl_sup_matchup])\n",
    "dense_layer = Dense(32,activation='tanh',name='Merged_all')(all_input)\n",
    "\n",
    "final_layer = Dense(1,activation='sigmoid',name='Output')(dense_layer)\n",
    "\n",
    "\n",
    "BDC = Model(inputs=[blue_top_input,red_top_input,blue_jgl_input,red_jgl_input,blue_mid_input,red_mid_input,blue_adc_input,red_adc_input,blue_sup_input,red_sup_input],outputs = final_layer, name=\"BDC\")\n",
    "BDC.compile(loss='binary_crossentropy', optimizer='adam', metrics=['accuracy'])\n",
    "BDC.summary()"
   ]
  },
  {
   "cell_type": "code",
   "execution_count": 10,
   "id": "c4ded077",
   "metadata": {},
   "outputs": [
    {
     "name": "stdout",
     "output_type": "stream",
     "text": [
      "Epoch 1/100\n"
     ]
    },
    {
     "name": "stderr",
     "output_type": "stream",
     "text": [
      "C:\\Users\\antoi\\anaconda3\\lib\\site-packages\\tensorflow\\python\\data\\ops\\structured_function.py:264: UserWarning: Even though the `tf.config.experimental_run_functions_eagerly` option is set, this option does not apply to tf.data functions. To force eager execution of tf.data functions, please use `tf.data.experimental.enable_debug_mode()`.\n",
      "  warnings.warn(\n"
     ]
    },
    {
     "name": "stdout",
     "output_type": "stream",
     "text": [
      "835/835 [==============================] - 24s 28ms/step - loss: 0.6968 - accuracy: 0.5010 - val_loss: 0.6934 - val_accuracy: 0.4979\n",
      "Epoch 2/100\n",
      "835/835 [==============================] - 24s 28ms/step - loss: 0.6934 - accuracy: 0.5071 - val_loss: 0.6943 - val_accuracy: 0.5067\n",
      "Epoch 3/100\n",
      "835/835 [==============================] - 24s 29ms/step - loss: 0.6926 - accuracy: 0.5114 - val_loss: 0.6935 - val_accuracy: 0.5039\n",
      "Epoch 4/100\n",
      "835/835 [==============================] - 24s 29ms/step - loss: 0.6920 - accuracy: 0.5191 - val_loss: 0.6954 - val_accuracy: 0.5007\n",
      "Epoch 5/100\n",
      "835/835 [==============================] - 24s 29ms/step - loss: 0.6913 - accuracy: 0.5250 - val_loss: 0.6941 - val_accuracy: 0.5164\n",
      "Epoch 6/100\n",
      "835/835 [==============================] - 23s 28ms/step - loss: 0.6900 - accuracy: 0.5295 - val_loss: 0.6951 - val_accuracy: 0.5116\n",
      "Epoch 7/100\n",
      "835/835 [==============================] - 24s 29ms/step - loss: 0.6887 - accuracy: 0.5354 - val_loss: 0.6929 - val_accuracy: 0.5121\n",
      "Epoch 8/100\n",
      "835/835 [==============================] - 24s 29ms/step - loss: 0.6858 - accuracy: 0.5422 - val_loss: 0.6938 - val_accuracy: 0.5172\n",
      "Epoch 9/100\n",
      "835/835 [==============================] - 23s 28ms/step - loss: 0.6833 - accuracy: 0.5514 - val_loss: 0.6999 - val_accuracy: 0.5109\n",
      "Epoch 10/100\n",
      "835/835 [==============================] - 24s 29ms/step - loss: 0.6822 - accuracy: 0.5479 - val_loss: 0.6963 - val_accuracy: 0.5236\n",
      "Epoch 11/100\n",
      "835/835 [==============================] - 24s 29ms/step - loss: 0.6791 - accuracy: 0.5592 - val_loss: 0.6972 - val_accuracy: 0.5219\n",
      "Epoch 12/100\n",
      "835/835 [==============================] - 24s 29ms/step - loss: 0.6747 - accuracy: 0.5699 - val_loss: 0.7013 - val_accuracy: 0.5148\n",
      "Epoch 13/100\n",
      "835/835 [==============================] - 24s 29ms/step - loss: 0.6713 - accuracy: 0.5756 - val_loss: 0.7015 - val_accuracy: 0.5169\n",
      "Epoch 14/100\n",
      "835/835 [==============================] - 24s 29ms/step - loss: 0.6673 - accuracy: 0.5799 - val_loss: 0.7021 - val_accuracy: 0.5221\n",
      "Epoch 15/100\n",
      "835/835 [==============================] - 24s 28ms/step - loss: 0.6625 - accuracy: 0.5919 - val_loss: 0.7059 - val_accuracy: 0.5192\n",
      "Epoch 16/100\n",
      "835/835 [==============================] - 24s 29ms/step - loss: 0.6590 - accuracy: 0.5966 - val_loss: 0.7091 - val_accuracy: 0.5246\n",
      "Epoch 17/100\n",
      "835/835 [==============================] - 23s 28ms/step - loss: 0.6549 - accuracy: 0.6018 - val_loss: 0.7124 - val_accuracy: 0.5270\n",
      "Epoch 18/100\n",
      "835/835 [==============================] - 23s 27ms/step - loss: 0.6503 - accuracy: 0.6065 - val_loss: 0.7153 - val_accuracy: 0.5245\n",
      "Epoch 19/100\n",
      "835/835 [==============================] - 23s 27ms/step - loss: 0.6451 - accuracy: 0.6133 - val_loss: 0.7176 - val_accuracy: 0.5222\n",
      "Epoch 20/100\n",
      "835/835 [==============================] - 23s 27ms/step - loss: 0.6396 - accuracy: 0.6199 - val_loss: 0.7157 - val_accuracy: 0.5265\n",
      "Epoch 21/100\n",
      "835/835 [==============================] - 23s 27ms/step - loss: 0.6360 - accuracy: 0.6237 - val_loss: 0.7172 - val_accuracy: 0.5272\n",
      "Epoch 22/100\n",
      "835/835 [==============================] - 23s 27ms/step - loss: 0.6314 - accuracy: 0.6310 - val_loss: 0.7206 - val_accuracy: 0.5263\n",
      "Epoch 23/100\n",
      "835/835 [==============================] - 23s 27ms/step - loss: 0.6259 - accuracy: 0.6387 - val_loss: 0.7306 - val_accuracy: 0.5279\n",
      "Epoch 24/100\n",
      "835/835 [==============================] - 23s 27ms/step - loss: 0.6218 - accuracy: 0.6415 - val_loss: 0.7300 - val_accuracy: 0.5321\n",
      "Epoch 25/100\n",
      "835/835 [==============================] - 23s 27ms/step - loss: 0.6157 - accuracy: 0.6471 - val_loss: 0.7342 - val_accuracy: 0.5313\n",
      "Epoch 26/100\n",
      "835/835 [==============================] - 23s 27ms/step - loss: 0.6107 - accuracy: 0.6520 - val_loss: 0.7370 - val_accuracy: 0.5336\n",
      "Epoch 27/100\n",
      "835/835 [==============================] - 23s 27ms/step - loss: 0.6062 - accuracy: 0.6571 - val_loss: 0.7398 - val_accuracy: 0.5255\n",
      "Epoch 28/100\n",
      "835/835 [==============================] - 23s 27ms/step - loss: 0.6014 - accuracy: 0.6629 - val_loss: 0.7515 - val_accuracy: 0.5284\n",
      "Epoch 29/100\n",
      "835/835 [==============================] - 23s 27ms/step - loss: 0.5968 - accuracy: 0.6669 - val_loss: 0.7542 - val_accuracy: 0.5297\n",
      "Epoch 30/100\n",
      "835/835 [==============================] - 23s 27ms/step - loss: 0.5933 - accuracy: 0.6697 - val_loss: 0.7490 - val_accuracy: 0.5302\n",
      "Epoch 31/100\n",
      "835/835 [==============================] - 23s 27ms/step - loss: 0.5896 - accuracy: 0.6736 - val_loss: 0.7637 - val_accuracy: 0.5318\n",
      "Epoch 32/100\n",
      "835/835 [==============================] - 23s 27ms/step - loss: 0.5854 - accuracy: 0.6776 - val_loss: 0.7629 - val_accuracy: 0.5368\n",
      "Epoch 33/100\n",
      "835/835 [==============================] - 23s 27ms/step - loss: 0.5816 - accuracy: 0.6818 - val_loss: 0.7663 - val_accuracy: 0.5302\n",
      "Epoch 34/100\n",
      "835/835 [==============================] - 23s 27ms/step - loss: 0.5780 - accuracy: 0.6847 - val_loss: 0.7638 - val_accuracy: 0.5342\n",
      "Epoch 35/100\n",
      "835/835 [==============================] - 23s 27ms/step - loss: 0.5734 - accuracy: 0.6889 - val_loss: 0.7709 - val_accuracy: 0.5314\n",
      "Epoch 36/100\n",
      "835/835 [==============================] - 23s 27ms/step - loss: 0.5703 - accuracy: 0.6908 - val_loss: 0.7908 - val_accuracy: 0.5372\n",
      "Epoch 37/100\n",
      "835/835 [==============================] - 23s 27ms/step - loss: 0.5680 - accuracy: 0.6921 - val_loss: 0.7823 - val_accuracy: 0.5355\n",
      "Epoch 38/100\n",
      "835/835 [==============================] - 23s 27ms/step - loss: 0.5633 - accuracy: 0.6966 - val_loss: 0.7938 - val_accuracy: 0.5397\n",
      "Epoch 39/100\n",
      "835/835 [==============================] - 23s 27ms/step - loss: 0.5612 - accuracy: 0.6989 - val_loss: 0.7951 - val_accuracy: 0.5378\n",
      "Epoch 40/100\n",
      "835/835 [==============================] - 23s 27ms/step - loss: 0.5562 - accuracy: 0.7034 - val_loss: 0.8052 - val_accuracy: 0.5385\n",
      "Epoch 41/100\n",
      "835/835 [==============================] - 23s 27ms/step - loss: 0.5547 - accuracy: 0.7037 - val_loss: 0.8050 - val_accuracy: 0.5366\n",
      "Epoch 42/100\n",
      "835/835 [==============================] - 23s 27ms/step - loss: 0.5514 - accuracy: 0.7060 - val_loss: 0.8064 - val_accuracy: 0.5388\n",
      "Epoch 43/100\n",
      "835/835 [==============================] - 23s 27ms/step - loss: 0.5487 - accuracy: 0.7092 - val_loss: 0.8060 - val_accuracy: 0.5371\n",
      "Epoch 44/100\n",
      "835/835 [==============================] - 23s 27ms/step - loss: 0.5465 - accuracy: 0.7114 - val_loss: 0.8134 - val_accuracy: 0.5440\n",
      "Epoch 45/100\n",
      "835/835 [==============================] - 23s 27ms/step - loss: 0.5439 - accuracy: 0.7106 - val_loss: 0.8168 - val_accuracy: 0.5380\n",
      "Epoch 46/100\n",
      "835/835 [==============================] - 23s 27ms/step - loss: 0.5417 - accuracy: 0.7150 - val_loss: 0.8087 - val_accuracy: 0.5397\n",
      "Epoch 47/100\n",
      "835/835 [==============================] - 23s 27ms/step - loss: 0.5382 - accuracy: 0.7183 - val_loss: 0.8155 - val_accuracy: 0.5447\n",
      "Epoch 48/100\n",
      "835/835 [==============================] - 23s 27ms/step - loss: 0.5356 - accuracy: 0.7193 - val_loss: 0.8257 - val_accuracy: 0.5402\n",
      "Epoch 49/100\n",
      "835/835 [==============================] - 23s 28ms/step - loss: 0.5327 - accuracy: 0.7215 - val_loss: 0.8293 - val_accuracy: 0.5398\n",
      "Epoch 50/100\n",
      "835/835 [==============================] - 23s 27ms/step - loss: 0.5309 - accuracy: 0.7220 - val_loss: 0.8401 - val_accuracy: 0.5357\n",
      "Epoch 51/100\n",
      "835/835 [==============================] - 23s 27ms/step - loss: 0.5284 - accuracy: 0.7236 - val_loss: 0.8458 - val_accuracy: 0.5368\n",
      "Epoch 52/100\n",
      "835/835 [==============================] - 23s 27ms/step - loss: 0.5263 - accuracy: 0.7263 - val_loss: 0.8358 - val_accuracy: 0.5419\n",
      "Epoch 53/100\n",
      "835/835 [==============================] - 23s 27ms/step - loss: 0.5228 - accuracy: 0.7284 - val_loss: 0.8424 - val_accuracy: 0.5421\n",
      "Epoch 54/100\n",
      "835/835 [==============================] - 23s 27ms/step - loss: 0.5215 - accuracy: 0.7296 - val_loss: 0.8474 - val_accuracy: 0.5407\n",
      "Epoch 55/100\n",
      "835/835 [==============================] - 23s 27ms/step - loss: 0.5197 - accuracy: 0.7319 - val_loss: 0.8659 - val_accuracy: 0.5413\n",
      "Epoch 56/100\n",
      "835/835 [==============================] - 22s 27ms/step - loss: 0.5175 - accuracy: 0.7325 - val_loss: 0.8696 - val_accuracy: 0.5378\n",
      "Epoch 57/100\n"
     ]
    },
    {
     "name": "stdout",
     "output_type": "stream",
     "text": [
      "835/835 [==============================] - 22s 26ms/step - loss: 0.5164 - accuracy: 0.7337 - val_loss: 0.8510 - val_accuracy: 0.5413\n",
      "Epoch 58/100\n",
      "835/835 [==============================] - 22s 26ms/step - loss: 0.5149 - accuracy: 0.7353 - val_loss: 0.8646 - val_accuracy: 0.5386\n",
      "Epoch 59/100\n",
      "835/835 [==============================] - 22s 26ms/step - loss: 0.5119 - accuracy: 0.7357 - val_loss: 0.8674 - val_accuracy: 0.5353\n",
      "Epoch 60/100\n",
      "835/835 [==============================] - 22s 26ms/step - loss: 0.5089 - accuracy: 0.7386 - val_loss: 0.8688 - val_accuracy: 0.5417\n",
      "Epoch 61/100\n",
      "835/835 [==============================] - 22s 26ms/step - loss: 0.5084 - accuracy: 0.7407 - val_loss: 0.8730 - val_accuracy: 0.5404\n",
      "Epoch 62/100\n",
      "835/835 [==============================] - 22s 26ms/step - loss: 0.5061 - accuracy: 0.7413 - val_loss: 0.8733 - val_accuracy: 0.5450\n",
      "Epoch 63/100\n",
      "835/835 [==============================] - 22s 26ms/step - loss: 0.5047 - accuracy: 0.7420 - val_loss: 0.8813 - val_accuracy: 0.5353\n",
      "Epoch 64/100\n",
      "835/835 [==============================] - 22s 26ms/step - loss: 0.5046 - accuracy: 0.7423 - val_loss: 0.8767 - val_accuracy: 0.5419\n",
      "Epoch 65/100\n",
      "835/835 [==============================] - 22s 26ms/step - loss: 0.5006 - accuracy: 0.7456 - val_loss: 0.8799 - val_accuracy: 0.5414\n",
      "Epoch 66/100\n",
      "835/835 [==============================] - 22s 26ms/step - loss: 0.5013 - accuracy: 0.7448 - val_loss: 0.8883 - val_accuracy: 0.5385\n",
      "Epoch 67/100\n",
      "835/835 [==============================] - 22s 26ms/step - loss: 0.5015 - accuracy: 0.7424 - val_loss: 0.8829 - val_accuracy: 0.5390\n",
      "Epoch 68/100\n",
      "835/835 [==============================] - 22s 26ms/step - loss: 0.4974 - accuracy: 0.7452 - val_loss: 0.8880 - val_accuracy: 0.5415\n",
      "Epoch 69/100\n",
      "835/835 [==============================] - 22s 26ms/step - loss: 0.4956 - accuracy: 0.7477 - val_loss: 0.9030 - val_accuracy: 0.5384\n",
      "Epoch 70/100\n",
      "835/835 [==============================] - 22s 26ms/step - loss: 0.4934 - accuracy: 0.7501 - val_loss: 0.8920 - val_accuracy: 0.5387\n",
      "Epoch 71/100\n",
      "835/835 [==============================] - 22s 26ms/step - loss: 0.4928 - accuracy: 0.7498 - val_loss: 0.9056 - val_accuracy: 0.5434\n",
      "Epoch 72/100\n",
      "835/835 [==============================] - 22s 26ms/step - loss: 0.4916 - accuracy: 0.7507 - val_loss: 0.8983 - val_accuracy: 0.5416\n",
      "Epoch 73/100\n",
      "835/835 [==============================] - 22s 26ms/step - loss: 0.4916 - accuracy: 0.7506 - val_loss: 0.9114 - val_accuracy: 0.5416\n",
      "Epoch 74/100\n",
      "835/835 [==============================] - 22s 26ms/step - loss: 0.4896 - accuracy: 0.7531 - val_loss: 0.8992 - val_accuracy: 0.5464\n",
      "Epoch 75/100\n",
      "835/835 [==============================] - 23s 27ms/step - loss: 0.4851 - accuracy: 0.7557 - val_loss: 0.9083 - val_accuracy: 0.5423\n",
      "Epoch 76/100\n",
      "835/835 [==============================] - 23s 27ms/step - loss: 0.4871 - accuracy: 0.7532 - val_loss: 0.9197 - val_accuracy: 0.5404\n",
      "Epoch 77/100\n",
      "835/835 [==============================] - 23s 27ms/step - loss: 0.4842 - accuracy: 0.7546 - val_loss: 0.9186 - val_accuracy: 0.5402\n",
      "Epoch 78/100\n",
      "835/835 [==============================] - 23s 28ms/step - loss: 0.4846 - accuracy: 0.7555 - val_loss: 0.9327 - val_accuracy: 0.5435\n",
      "Epoch 79/100\n",
      "835/835 [==============================] - 23s 28ms/step - loss: 0.4824 - accuracy: 0.7559 - val_loss: 0.9111 - val_accuracy: 0.5437\n",
      "Epoch 80/100\n",
      "835/835 [==============================] - 23s 27ms/step - loss: 0.4815 - accuracy: 0.7579 - val_loss: 0.9248 - val_accuracy: 0.5437\n",
      "Epoch 81/100\n",
      "835/835 [==============================] - 23s 27ms/step - loss: 0.4799 - accuracy: 0.7575 - val_loss: 0.9116 - val_accuracy: 0.5461\n",
      "Epoch 82/100\n",
      "835/835 [==============================] - 23s 27ms/step - loss: 0.4789 - accuracy: 0.7600 - val_loss: 0.9338 - val_accuracy: 0.5419\n",
      "Epoch 83/100\n",
      "835/835 [==============================] - 23s 27ms/step - loss: 0.4765 - accuracy: 0.7593 - val_loss: 0.9324 - val_accuracy: 0.5464\n",
      "Epoch 84/100\n",
      "835/835 [==============================] - 23s 27ms/step - loss: 0.4747 - accuracy: 0.7619 - val_loss: 0.9390 - val_accuracy: 0.5423\n",
      "Epoch 85/100\n",
      "835/835 [==============================] - 23s 27ms/step - loss: 0.4755 - accuracy: 0.7608 - val_loss: 0.9389 - val_accuracy: 0.5434\n",
      "Epoch 86/100\n",
      "835/835 [==============================] - 23s 27ms/step - loss: 0.4749 - accuracy: 0.7622 - val_loss: 0.9395 - val_accuracy: 0.5441\n",
      "Epoch 87/100\n",
      "835/835 [==============================] - 23s 27ms/step - loss: 0.4726 - accuracy: 0.7641 - val_loss: 0.9320 - val_accuracy: 0.5448\n",
      "Epoch 88/100\n",
      "835/835 [==============================] - 23s 27ms/step - loss: 0.4729 - accuracy: 0.7620 - val_loss: 0.9533 - val_accuracy: 0.5432\n",
      "Epoch 89/100\n",
      "835/835 [==============================] - 23s 28ms/step - loss: 0.4735 - accuracy: 0.7630 - val_loss: 0.9521 - val_accuracy: 0.5462\n",
      "Epoch 90/100\n",
      "835/835 [==============================] - 23s 27ms/step - loss: 0.4697 - accuracy: 0.7666 - val_loss: 0.9497 - val_accuracy: 0.5431\n",
      "Epoch 91/100\n",
      "835/835 [==============================] - 23s 27ms/step - loss: 0.4698 - accuracy: 0.7649 - val_loss: 0.9401 - val_accuracy: 0.5447\n",
      "Epoch 92/100\n",
      "835/835 [==============================] - 23s 28ms/step - loss: 0.4689 - accuracy: 0.7661 - val_loss: 0.9445 - val_accuracy: 0.5401\n",
      "Epoch 93/100\n",
      "835/835 [==============================] - 23s 27ms/step - loss: 0.4670 - accuracy: 0.7664 - val_loss: 0.9341 - val_accuracy: 0.5448\n",
      "Epoch 94/100\n",
      "835/835 [==============================] - 23s 27ms/step - loss: 0.4683 - accuracy: 0.7666 - val_loss: 0.9647 - val_accuracy: 0.5469\n",
      "Epoch 95/100\n",
      "835/835 [==============================] - 23s 28ms/step - loss: 0.4664 - accuracy: 0.7663 - val_loss: 0.9630 - val_accuracy: 0.5451\n",
      "Epoch 96/100\n",
      "835/835 [==============================] - 23s 28ms/step - loss: 0.4625 - accuracy: 0.7721 - val_loss: 0.9604 - val_accuracy: 0.5446\n",
      "Epoch 97/100\n",
      "835/835 [==============================] - 23s 28ms/step - loss: 0.4657 - accuracy: 0.7686 - val_loss: 0.9443 - val_accuracy: 0.5463\n",
      "Epoch 98/100\n",
      "835/835 [==============================] - 23s 27ms/step - loss: 0.4665 - accuracy: 0.7679 - val_loss: 0.9587 - val_accuracy: 0.5427\n",
      "Epoch 99/100\n",
      "835/835 [==============================] - 23s 27ms/step - loss: 0.4634 - accuracy: 0.7711 - val_loss: 0.9546 - val_accuracy: 0.5483\n",
      "Epoch 100/100\n",
      "835/835 [==============================] - 23s 28ms/step - loss: 0.4630 - accuracy: 0.7713 - val_loss: 0.9681 - val_accuracy: 0.5494\n"
     ]
    },
    {
     "data": {
      "text/plain": [
       "<keras.callbacks.History at 0x21958ccd970>"
      ]
     },
     "execution_count": 10,
     "metadata": {},
     "output_type": "execute_result"
    }
   ],
   "source": [
    "BDC.fit(Train_data,Y_train, batch_size=64,epochs=100,validation_split=0.2)"
   ]
  },
  {
   "cell_type": "code",
   "execution_count": 20,
   "id": "f733059c",
   "metadata": {},
   "outputs": [
    {
     "data": {
      "text/plain": [
       "(66757, 2, 5, 49)"
      ]
     },
     "execution_count": 20,
     "metadata": {},
     "output_type": "execute_result"
    }
   ],
   "source": [
    "X_train.shape"
   ]
  },
  {
   "cell_type": "code",
   "execution_count": 13,
   "id": "74b813cc",
   "metadata": {},
   "outputs": [
    {
     "name": "stdout",
     "output_type": "stream",
     "text": [
      "522/522 [==============================] - 4s 8ms/step\n"
     ]
    }
   ],
   "source": [
    "res = BDC.predict(Test_data)"
   ]
  },
  {
   "cell_type": "code",
   "execution_count": 17,
   "id": "93105606",
   "metadata": {},
   "outputs": [],
   "source": [
    "aux = []\n",
    "for i in range(len(res)):\n",
    "    if res[i]>0.5:\n",
    "        aux.append(1)\n",
    "    else:\n",
    "        aux.append(0)"
   ]
  },
  {
   "cell_type": "code",
   "execution_count": 18,
   "id": "05afef72",
   "metadata": {},
   "outputs": [],
   "source": [
    "from sklearn.metrics import confusion_matrix,accuracy_score"
   ]
  },
  {
   "cell_type": "code",
   "execution_count": 19,
   "id": "84b80cfc",
   "metadata": {},
   "outputs": [
    {
     "data": {
      "text/plain": [
       "0.5437387657279809"
      ]
     },
     "execution_count": 19,
     "metadata": {},
     "output_type": "execute_result"
    }
   ],
   "source": [
    "accuracy_score(Y_test,aux)"
   ]
  },
  {
   "cell_type": "code",
   "execution_count": 21,
   "id": "7e19e078",
   "metadata": {},
   "outputs": [
    {
     "data": {
      "text/plain": [
       "array([[4410, 4037],\n",
       "       [3578, 4665]], dtype=int64)"
      ]
     },
     "execution_count": 21,
     "metadata": {},
     "output_type": "execute_result"
    }
   ],
   "source": [
    "confusion_matrix(Y_test,aux)"
   ]
  },
  {
   "cell_type": "code",
   "execution_count": null,
   "id": "04e6e03f",
   "metadata": {},
   "outputs": [],
   "source": []
  }
 ],
 "metadata": {
  "kernelspec": {
   "display_name": "Python 3 (ipykernel)",
   "language": "python",
   "name": "python3"
  },
  "language_info": {
   "codemirror_mode": {
    "name": "ipython",
    "version": 3
   },
   "file_extension": ".py",
   "mimetype": "text/x-python",
   "name": "python",
   "nbconvert_exporter": "python",
   "pygments_lexer": "ipython3",
   "version": "3.9.7"
  }
 },
 "nbformat": 4,
 "nbformat_minor": 5
}
