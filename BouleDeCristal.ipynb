{
 "cells": [
  {
   "cell_type": "code",
   "execution_count": 47,
   "id": "06e9ebdf",
   "metadata": {},
   "outputs": [
    {
     "name": "stdout",
     "output_type": "stream",
     "text": [
      "tensorflow version: 2.9.1\n",
      "numpy version: 1.21.5\n",
      "pandas version: 1.4.2\n",
      "scikit-learn version: 1.0.2\n"
     ]
    }
   ],
   "source": [
    "import numpy as np\n",
    "import tensorflow as tf\n",
    "tf.config.run_functions_eagerly(True)\n",
    "from tensorflow import __version__ as tf_version, float32 as tf_float32, Variable\n",
    "from tensorflow.keras import Sequential, Model\n",
    "from tensorflow.keras.backend import variable, dot as k_dot, sigmoid, relu\n",
    "from tensorflow.keras.layers import Dense, Input, Concatenate, Layer\n",
    "from tensorflow.keras.losses import SparseCategoricalCrossentropy\n",
    "from tensorflow.keras.utils import plot_model\n",
    "from tensorflow.random import set_seed as tf_set_seed\n",
    "from numpy import __version__ as np_version, unique, array, mean, argmax\n",
    "from numpy.random import seed as np_seed, choice\n",
    "from pandas import __version__ as pd_version, read_csv, DataFrame, concat\n",
    "from sklearn import __version__ as sk_version\n",
    "from sklearn.preprocessing import normalize\n",
    "print(\"tensorflow version:\", tf_version)\n",
    "print(\"numpy version:\", np_version)\n",
    "print(\"pandas version:\", pd_version)\n",
    "print(\"scikit-learn version:\", sk_version)"
   ]
  },
  {
   "cell_type": "code",
   "execution_count": 32,
   "id": "2ccf0664",
   "metadata": {},
   "outputs": [],
   "source": [
    "X_train,Y_train = np.load(\"X_train.npy\"),np.load(\"Y_train.npy\")\n",
    "X_test,Y_test = np.load(\"X_test.npy\"),np.load(\"Y_test.npy\")"
   ]
  },
  {
   "cell_type": "code",
   "execution_count": 38,
   "id": "464aeeab",
   "metadata": {},
   "outputs": [
    {
     "data": {
      "text/plain": [
       "((30274, 2, 5, 49), (7570, 2, 5, 49))"
      ]
     },
     "execution_count": 38,
     "metadata": {},
     "output_type": "execute_result"
    }
   ],
   "source": [
    "X_train.shape,X_test.shape"
   ]
  },
  {
   "cell_type": "code",
   "execution_count": 41,
   "id": "4c779e85",
   "metadata": {},
   "outputs": [],
   "source": [
    "#[blue_top,red_top,blue_jgl,red_jgl,blue_mid,red_mid,blue_adc,red_adc,blue_sup,red_sup]\n",
    "def cut_down_data(X):\n",
    "    blue_top,red_top,blue_jgl,red_jgl,blue_mid,red_mid,blue_adc,red_adc,blue_sup,red_sup = [],[],[],[],[],[],[],[],[],[]\n",
    "    for x in X:\n",
    "        blue_top.append(x[0][0])\n",
    "        red_top.append(x[1][0])\n",
    "        blue_jgl.append(x[0][1])\n",
    "        red_jgl.append(x[1][1])\n",
    "        blue_mid.append(x[0][2])\n",
    "        red_mid.append(x[1][2])\n",
    "        blue_adc.append(x[0][3])\n",
    "        red_adc.append(x[1][3])\n",
    "        blue_sup.append(x[0][4])\n",
    "        red_sup.append(x[1][4])\n",
    "    return(np.array(blue_top),np.array(red_top),np.array(blue_jgl),np.array(red_jgl),np.array(blue_mid),np.array(red_mid),np.array(blue_adc),np.array(red_adc),np.array(blue_sup),np.array(red_sup))"
   ]
  },
  {
   "cell_type": "code",
   "execution_count": 42,
   "id": "f20ed940",
   "metadata": {},
   "outputs": [],
   "source": [
    "Train_blue_top,Train_red_top,Train_blue_jgl,Train_red_jgl,Train_blue_mid,Train_red_mid,Train_blue_adc,Train_red_adc,Train_blue_sup,Train_red_sup = cut_down_data(X_train)\n",
    "Test_blue_top,Test_red_top,Test_blue_jgl,Test_red_jgl,Test_blue_mid,Test_red_mid,Test_blue_adc,Test_red_adc,Test_blue_sup,Test_red_sup = cut_down_data(X_test)"
   ]
  },
  {
   "cell_type": "code",
   "execution_count": 44,
   "id": "44a48e04",
   "metadata": {},
   "outputs": [],
   "source": [
    "Train_data = [Train_blue_top,Train_red_top,Train_blue_jgl,Train_red_jgl,Train_blue_mid,Train_red_mid,Train_blue_adc,Train_red_adc,Train_blue_sup,Train_red_sup]"
   ]
  },
  {
   "cell_type": "code",
   "execution_count": 43,
   "id": "204b8181",
   "metadata": {},
   "outputs": [
    {
     "data": {
      "text/plain": [
       "(7570, 49)"
      ]
     },
     "execution_count": 43,
     "metadata": {},
     "output_type": "execute_result"
    }
   ],
   "source": [
    "Test_red_top.shape"
   ]
  },
  {
   "cell_type": "code",
   "execution_count": 8,
   "id": "3013f257",
   "metadata": {},
   "outputs": [],
   "source": [
    "_matchup_shape = 2 * X_train.shape[-1]\n",
    "_champion_shape = X_train.shape[-1]"
   ]
  },
  {
   "cell_type": "code",
   "execution_count": 25,
   "id": "e6f34a0a",
   "metadata": {},
   "outputs": [
    {
     "name": "stdout",
     "output_type": "stream",
     "text": [
      "Model: \"BDC\"\n",
      "__________________________________________________________________________________________________\n",
      " Layer (type)                   Output Shape         Param #     Connected to                     \n",
      "==================================================================================================\n",
      " Blue_top_input (InputLayer)    [(None, 49)]         0           []                               \n",
      "                                                                                                  \n",
      " Red_top_input (InputLayer)     [(None, 49)]         0           []                               \n",
      "                                                                                                  \n",
      " Blue_jgl_input (InputLayer)    [(None, 49)]         0           []                               \n",
      "                                                                                                  \n",
      " Red_jgl_input (InputLayer)     [(None, 49)]         0           []                               \n",
      "                                                                                                  \n",
      " Blue_mid_input (InputLayer)    [(None, 49)]         0           []                               \n",
      "                                                                                                  \n",
      " Red_mid_input (InputLayer)     [(None, 49)]         0           []                               \n",
      "                                                                                                  \n",
      " Blue_adc_input (InputLayer)    [(None, 49)]         0           []                               \n",
      "                                                                                                  \n",
      " Red_adc_input (InputLayer)     [(None, 49)]         0           []                               \n",
      "                                                                                                  \n",
      " Blue_sup_input (InputLayer)    [(None, 49)]         0           []                               \n",
      "                                                                                                  \n",
      " Red_sup_input (InputLayer)     [(None, 49)]         0           []                               \n",
      "                                                                                                  \n",
      " Blue_jgl_top_input (Concatenat  (None, 98)          0           ['Blue_top_input[0][0]',         \n",
      " e)                                                               'Blue_jgl_input[0][0]']         \n",
      "                                                                                                  \n",
      " Red_jgl_top_input (Concatenate  (None, 98)          0           ['Red_top_input[0][0]',          \n",
      " )                                                                'Red_jgl_input[0][0]']          \n",
      "                                                                                                  \n",
      " Blue_jgl_mid_input (Concatenat  (None, 98)          0           ['Blue_mid_input[0][0]',         \n",
      " e)                                                               'Blue_jgl_input[0][0]']         \n",
      "                                                                                                  \n",
      " Red_jgl_mid_input (Concatenate  (None, 98)          0           ['Red_mid_input[0][0]',          \n",
      " )                                                                'Red_jgl_input[0][0]']          \n",
      "                                                                                                  \n",
      " Merged_adc_input (Concatenate)  (None, 98)          0           ['Blue_adc_input[0][0]',         \n",
      "                                                                  'Red_adc_input[0][0]']          \n",
      "                                                                                                  \n",
      " Sup_matchup_input (Concatenate  (None, 98)          0           ['Blue_sup_input[0][0]',         \n",
      " )                                                                'Red_sup_input[0][0]']          \n",
      "                                                                                                  \n",
      " Blue_jgl_sup_input (Concatenat  (None, 98)          0           ['Blue_sup_input[0][0]',         \n",
      " e)                                                               'Blue_jgl_input[0][0]']         \n",
      "                                                                                                  \n",
      " Red_jgl_sup_input (Concatenate  (None, 98)          0           ['Red_sup_input[0][0]',          \n",
      " )                                                                'Red_jgl_input[0][0]']          \n",
      "                                                                                                  \n",
      " Blue_jgl_top (Dense)           (None, 16)           1584        ['Blue_jgl_top_input[0][0]']     \n",
      "                                                                                                  \n",
      " Red_jgl_top (Dense)            (None, 16)           1584        ['Red_jgl_top_input[0][0]']      \n",
      "                                                                                                  \n",
      " Blue_jgl_mid (Dense)           (None, 16)           1584        ['Blue_jgl_mid_input[0][0]']     \n",
      "                                                                                                  \n",
      " Red_jgl_mid (Dense)            (None, 16)           1584        ['Red_jgl_mid_input[0][0]']      \n",
      "                                                                                                  \n",
      " ADC_matchup (Dense)            (None, 32)           3168        ['Merged_adc_input[0][0]']       \n",
      "                                                                                                  \n",
      " Sup_matchup (Dense)            (None, 32)           3168        ['Sup_matchup_input[0][0]']      \n",
      "                                                                                                  \n",
      " Blue_jgl_sup (Dense)           (None, 16)           1584        ['Blue_jgl_sup_input[0][0]']     \n",
      "                                                                                                  \n",
      " Red_jgl_sup (Dense)            (None, 16)           1584        ['Red_jgl_sup_input[0][0]']      \n",
      "                                                                                                  \n",
      " Merged_top_input (Concatenate)  (None, 98)          0           ['Blue_top_input[0][0]',         \n",
      "                                                                  'Red_top_input[0][0]']          \n",
      "                                                                                                  \n",
      " jgl_top_matchup_input (Concate  (None, 32)          0           ['Blue_jgl_top[0][0]',           \n",
      " nate)                                                            'Red_jgl_top[0][0]']            \n",
      "                                                                                                  \n",
      " Merged_mid_input (Concatenate)  (None, 98)          0           ['Blue_mid_input[0][0]',         \n",
      "                                                                  'Red_mid_input[0][0]']          \n",
      "                                                                                                  \n",
      " Jgl_mid_matchup_input (Concate  (None, 32)          0           ['Blue_jgl_mid[0][0]',           \n",
      " nate)                                                            'Red_jgl_mid[0][0]']            \n",
      "                                                                                                  \n",
      " Botlane_matchup_input (Concate  (None, 64)          0           ['ADC_matchup[0][0]',            \n",
      " nate)                                                            'Sup_matchup[0][0]']            \n",
      "                                                                                                  \n",
      " Merged_jgl_sup_input (Concaten  (None, 32)          0           ['Blue_jgl_sup[0][0]',           \n",
      " ate)                                                             'Red_jgl_sup[0][0]']            \n",
      "                                                                                                  \n",
      " Top_matchup (Dense)            (None, 32)           3168        ['Merged_top_input[0][0]']       \n",
      "                                                                                                  \n"
     ]
    },
    {
     "name": "stdout",
     "output_type": "stream",
     "text": [
      " jgl_top_matchup (Dense)        (None, 8)            264         ['jgl_top_matchup_input[0][0]']  \n",
      "                                                                                                  \n",
      " Mid_matchup (Dense)            (None, 32)           3168        ['Merged_mid_input[0][0]']       \n",
      "                                                                                                  \n",
      " Jgl_mid_matchup (Dense)        (None, 8)            264         ['Jgl_mid_matchup_input[0][0]']  \n",
      "                                                                                                  \n",
      " Botlane_matchup (Dense)        (None, 16)           1040        ['Botlane_matchup_input[0][0]']  \n",
      "                                                                                                  \n",
      " Merged_jgl_sup (Dense)         (None, 8)            264         ['Merged_jgl_sup_input[0][0]']   \n",
      "                                                                                                  \n",
      " Merged_all_input (Concatenate)  (None, 104)         0           ['Top_matchup[0][0]',            \n",
      "                                                                  'jgl_top_matchup[0][0]',        \n",
      "                                                                  'Mid_matchup[0][0]',            \n",
      "                                                                  'Jgl_mid_matchup[0][0]',        \n",
      "                                                                  'Botlane_matchup[0][0]',        \n",
      "                                                                  'Merged_jgl_sup[0][0]']         \n",
      "                                                                                                  \n",
      " Merged_all (Dense)             (None, 32)           3360        ['Merged_all_input[0][0]']       \n",
      "                                                                                                  \n",
      " Output (Dense)                 (None, 1)            33          ['Merged_all[0][0]']             \n",
      "                                                                                                  \n",
      "==================================================================================================\n",
      "Total params: 27,401\n",
      "Trainable params: 27,401\n",
      "Non-trainable params: 0\n",
      "__________________________________________________________________________________________________\n"
     ]
    }
   ],
   "source": [
    "tf_set_seed(1102)\n",
    "np_seed(1102)\n",
    "\n",
    "blue_top_input = Input(shape = _champion_shape, name = \"Blue_top_input\")\n",
    "red_top_input = Input(shape = _champion_shape, name = \"Red_top_input\")\n",
    "top_input = Concatenate(name = \"Merged_top_input\")([blue_top_input,red_top_input])\n",
    "top_matchup = Dense(32, activation = 'relu', name=\"Top_matchup\")(top_input)\n",
    "\n",
    "blue_jgl_input = Input(shape = _champion_shape, name = \"Blue_jgl_input\")\n",
    "red_jgl_input = Input(shape = _champion_shape, name = \"Red_jgl_input\")\n",
    "jgl_input = Concatenate(name = \"Merged_jgl_input\")([blue_jgl_input,red_jgl_input])\n",
    "jgl_matchup = Dense(32, activation = 'relu',name = 'Jgl_matchup')(jgl_input) \n",
    "\n",
    "blue_jgl_top_input = Concatenate(name = 'Blue_jgl_top_input')([blue_top_input,blue_jgl_input])\n",
    "blue_jgl_top = Dense(16,activation='relu', name = 'Blue_jgl_top')(blue_jgl_top_input)\n",
    "red_jgl_top_input = Concatenate(name = 'Red_jgl_top_input')([red_top_input,red_jgl_input])\n",
    "red_jgl_top = Dense(16,activation='relu', name = 'Red_jgl_top')(red_jgl_top_input)\n",
    "\n",
    "jgl_top_input = Concatenate(name = \"jgl_top_matchup_input\")([blue_jgl_top,red_jgl_top])\n",
    "jgl_top_matchup = Dense(8, name = 'jgl_top_matchup')(jgl_top_input) \n",
    "\n",
    "\n",
    "blue_mid_input = Input(shape = _champion_shape, name = \"Blue_mid_input\")\n",
    "red_mid_input = Input(shape = _champion_shape,name = 'Red_mid_input')\n",
    "mid_input = Concatenate(name='Merged_mid_input')([blue_mid_input,red_mid_input])\n",
    "mid_matchup = Dense(32, activation = 'relu',name = \"Mid_matchup\")(mid_input)\n",
    "\n",
    "blue_jgl_mid_input = Concatenate(name = 'Blue_jgl_mid_input')([blue_mid_input,blue_jgl_input])\n",
    "blue_jgl_mid = Dense(16,activation='relu',name='Blue_jgl_mid')(blue_jgl_mid_input)\n",
    "red_jgl_mid_input = Concatenate(name='Red_jgl_mid_input')([red_mid_input,red_jgl_input])\n",
    "red_jgl_mid = Dense(16,activation='relu',name='Red_jgl_mid')(red_jgl_mid_input)\n",
    "\n",
    "jgl_mid_input = Concatenate(name='Jgl_mid_matchup_input')([blue_jgl_mid,red_jgl_mid])\n",
    "jgl_mid_matchup = Dense(8,name='Jgl_mid_matchup')(jgl_mid_input) \n",
    "\n",
    "\n",
    "\n",
    "blue_adc_input = Input(shape = _champion_shape,name='Blue_adc_input')\n",
    "red_adc_input = Input(shape = _champion_shape,name='Red_adc_input')\n",
    "adc_input = Concatenate(name='Merged_adc_input')([blue_adc_input,red_adc_input])\n",
    "adc_matchup = Dense(32, activation = 'relu',name='ADC_matchup')(adc_input)\n",
    "\n",
    "blue_sup_input = Input(shape = _champion_shape,name='Blue_sup_input')\n",
    "red_sup_input = Input(shape = _champion_shape,name='Red_sup_input')\n",
    "sup_input = Concatenate(name='Sup_matchup_input')([blue_sup_input,red_sup_input])\n",
    "sup_matchup = Dense(32, activation = 'relu',name='Sup_matchup')(sup_input)\n",
    "\n",
    "botlane_input = Concatenate(name='Botlane_matchup_input')([adc_matchup,sup_matchup])\n",
    "botlane_matchup = Dense(16,activation='relu',name='Botlane_matchup')(botlane_input)\n",
    "\n",
    "blue_jgl_sup_input = Concatenate(name='Blue_jgl_sup_input')([blue_sup_input,blue_jgl_input])\n",
    "blue_jgl_sup = Dense(16,activation='relu',name='Blue_jgl_sup')(blue_jgl_sup_input)\n",
    "red_jgl_sup_input = Concatenate(name='Red_jgl_sup_input')([red_sup_input,red_jgl_input])\n",
    "red_jgl_sup = Dense(16,activation='relu',name='Red_jgl_sup')(red_jgl_sup_input)\n",
    "\n",
    "jgl_sup_input = Concatenate(name='Merged_jgl_sup_input')([blue_jgl_sup,red_jgl_sup])\n",
    "jgl_sup_matchup = Dense(8,name = 'Merged_jgl_sup')(jgl_sup_input) \n",
    "\n",
    "\n",
    "all_input = Concatenate(name = \"Merged_all_input\")([top_matchup,jgl_top_matchup,mid_matchup,jgl_mid_matchup,botlane_matchup,jgl_sup_matchup])\n",
    "dense_layer = Dense(32,activation='tanh',name='Merged_all')(all_input)\n",
    "\n",
    "final_layer = Dense(1,activation='sigmoid',name='Output')(dense_layer)\n",
    "\n",
    "\n",
    "BDC = Model(inputs=[blue_top_input,red_top_input,blue_jgl_input,red_jgl_input,blue_mid_input,red_mid_input,blue_adc_input,red_adc_input,blue_sup_input,red_sup_input],outputs = final_layer, name=\"BDC\")\n",
    "BDC.compile(loss='binary_crossentropy', optimizer='adam', metrics=['accuracy'])\n",
    "BDC.summary()"
   ]
  },
  {
   "cell_type": "code",
   "execution_count": 50,
   "id": "c4ded077",
   "metadata": {},
   "outputs": [
    {
     "name": "stdout",
     "output_type": "stream",
     "text": [
      "Epoch 1/10\n",
      "379/379 [==============================] - 22s 59ms/step - loss: 0.6935 - accuracy: 0.5000 - val_loss: 0.6928 - val_accuracy: 0.4973\n",
      "Epoch 2/10\n",
      "379/379 [==============================] - 21s 56ms/step - loss: 0.6931 - accuracy: 0.5066 - val_loss: 0.6935 - val_accuracy: 0.4918\n",
      "Epoch 3/10\n",
      "379/379 [==============================] - 21s 56ms/step - loss: 0.6930 - accuracy: 0.5090 - val_loss: 0.6929 - val_accuracy: 0.5097\n",
      "Epoch 4/10\n",
      "379/379 [==============================] - 22s 59ms/step - loss: 0.6932 - accuracy: 0.5058 - val_loss: 0.6939 - val_accuracy: 0.5002\n",
      "Epoch 5/10\n",
      "379/379 [==============================] - 21s 56ms/step - loss: 0.6925 - accuracy: 0.5118 - val_loss: 0.6932 - val_accuracy: 0.5108\n",
      "Epoch 6/10\n",
      "379/379 [==============================] - 22s 58ms/step - loss: 0.6922 - accuracy: 0.5103 - val_loss: 0.6919 - val_accuracy: 0.5126\n",
      "Epoch 7/10\n",
      "379/379 [==============================] - 23s 60ms/step - loss: 0.6907 - accuracy: 0.5141 - val_loss: 0.6921 - val_accuracy: 0.5136\n",
      "Epoch 8/10\n",
      "379/379 [==============================] - 22s 57ms/step - loss: 0.6890 - accuracy: 0.5173 - val_loss: 0.6944 - val_accuracy: 0.5017\n",
      "Epoch 9/10\n",
      "379/379 [==============================] - 22s 58ms/step - loss: 0.6878 - accuracy: 0.5238 - val_loss: 0.6922 - val_accuracy: 0.5130\n",
      "Epoch 10/10\n",
      "379/379 [==============================] - 22s 59ms/step - loss: 0.6851 - accuracy: 0.5302 - val_loss: 0.6932 - val_accuracy: 0.5082\n"
     ]
    },
    {
     "data": {
      "text/plain": [
       "<keras.callbacks.History at 0x1ec087c92e0>"
      ]
     },
     "execution_count": 50,
     "metadata": {},
     "output_type": "execute_result"
    }
   ],
   "source": [
    "BDC.fit(Train_data,Y_train, batch_size=64,epochs=10,validation_split=0.2)"
   ]
  },
  {
   "cell_type": "code",
   "execution_count": 29,
   "id": "f733059c",
   "metadata": {},
   "outputs": [
    {
     "data": {
      "text/plain": [
       "(30274, 10, 49)"
      ]
     },
     "execution_count": 29,
     "metadata": {},
     "output_type": "execute_result"
    }
   ],
   "source": [
    "X_train.shape"
   ]
  },
  {
   "cell_type": "code",
   "execution_count": null,
   "id": "74b813cc",
   "metadata": {},
   "outputs": [],
   "source": []
  }
 ],
 "metadata": {
  "kernelspec": {
   "display_name": "Python 3 (ipykernel)",
   "language": "python",
   "name": "python3"
  },
  "language_info": {
   "codemirror_mode": {
    "name": "ipython",
    "version": 3
   },
   "file_extension": ".py",
   "mimetype": "text/x-python",
   "name": "python",
   "nbconvert_exporter": "python",
   "pygments_lexer": "ipython3",
   "version": "3.9.12"
  }
 },
 "nbformat": 4,
 "nbformat_minor": 5
}
