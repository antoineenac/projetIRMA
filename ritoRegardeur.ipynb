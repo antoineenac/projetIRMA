{
 "cells": [
  {
   "cell_type": "code",
   "execution_count": 7,
   "id": "729bd548",
   "metadata": {},
   "outputs": [],
   "source": [
    "import requests"
   ]
  },
  {
   "cell_type": "code",
   "execution_count": null,
   "id": "55ebba3e",
   "metadata": {},
   "outputs": [],
   "source": [
    "clef = 'RGAPI-10062e3a-ad75-4038-9101-786837289f98'"
   ]
  },
  {
   "cell_type": "code",
   "execution_count": 11,
   "id": "5918e726",
   "metadata": {},
   "outputs": [],
   "source": [
    "req = requests.get('https://euw1.api.riotgames.com/lol/summoner/v4/summoners/by-name/Quoicoubol?api_key=RGAPI-10062e3a-ad75-4038-9101-786837289f98')"
   ]
  },
  {
   "cell_type": "code",
   "execution_count": 13,
   "id": "d83f83e3",
   "metadata": {},
   "outputs": [],
   "source": [
    "player_info = req.json()"
   ]
  },
  {
   "cell_type": "code",
   "execution_count": 14,
   "id": "79935b2a",
   "metadata": {},
   "outputs": [
    {
     "data": {
      "text/plain": [
       "{'id': 'RJ3eF7Nsc_XC2bhQkYEtMpbaojjmQ_FnrKcIrcCmXosAnI37',\n",
       " 'accountId': 'Tp5IAh29SKAFc6r-xztZsvo04WNOiKF_T921gd9Xr9a0VN7YTq6Oi98A',\n",
       " 'puuid': 'SOxYYxeBZAQ0GBWryjohVK4HV3MYzEGJhje6ceDOTVZUn7gDLbM6Qts1PwLfsrd0HTlHhTG_aOvY-w',\n",
       " 'name': 'Quoicoubol',\n",
       " 'profileIconId': 23,\n",
       " 'revisionDate': 1685397928159,\n",
       " 'summonerLevel': 295}"
      ]
     },
     "execution_count": 14,
     "metadata": {},
     "output_type": "execute_result"
    }
   ],
   "source": [
    "player_info"
   ]
  },
  {
   "cell_type": "code",
   "execution_count": null,
   "id": "8bd312ef",
   "metadata": {},
   "outputs": [],
   "source": []
  },
  {
   "cell_type": "code",
   "execution_count": 15,
   "id": "f4b18641",
   "metadata": {},
   "outputs": [],
   "source": [
    "def get_match_id_by_puuid(puuid,api_key):\n",
    "    return \"https://europe.api.riotgames.com/lol/match/v5/matches/by-puuid/\"+puuid+\"/ids?start=0&count=20&api_key=\"+api_key"
   ]
  },
  {
   "cell_type": "code",
   "execution_count": 16,
   "id": "54d130bf",
   "metadata": {},
   "outputs": [],
   "source": [
    "def get_match_info_by_id(match_id,api_key):\n",
    "    return \"https://europe.api.riotgames.com/lol/match/v5/matches/\"+match_id+\"?api_key=\"+api_key"
   ]
  },
  {
   "cell_type": "code",
   "execution_count": 17,
   "id": "3cd5ee67",
   "metadata": {},
   "outputs": [],
   "source": [
    "api_url = \"https://europe.api.riotgames.com/lol/match/v5/matches/EUW1_6428154821?api_key=RGAPI-10062e3a-ad75-4038-9101-786837289f98\""
   ]
  },
  {
   "cell_type": "code",
   "execution_count": 18,
   "id": "71561b2b",
   "metadata": {},
   "outputs": [],
   "source": [
    "resp = requests.get(api_url)\n",
    "match_data = resp.json()"
   ]
  },
  {
   "cell_type": "code",
   "execution_count": 27,
   "id": "bb1b8926",
   "metadata": {},
   "outputs": [],
   "source": [
    "player_data = match_data['info']['participants'][3]"
   ]
  },
  {
   "cell_type": "code",
   "execution_count": 29,
   "id": "af768fdb",
   "metadata": {},
   "outputs": [
    {
     "data": {
      "text/plain": [
       "{'allInPings': 0,\n",
       " 'assistMePings': 0,\n",
       " 'assists': 29,\n",
       " 'baitPings': 0,\n",
       " 'baronKills': 0,\n",
       " 'basicPings': 0,\n",
       " 'bountyLevel': 0,\n",
       " 'challenges': {'12AssistStreakCount': 0,\n",
       "  'abilityUses': 208,\n",
       "  'acesBefore15Minutes': 2,\n",
       "  'alliedJungleMonsterKills': 0,\n",
       "  'baronTakedowns': 0,\n",
       "  'blastConeOppositeOpponentCount': 0,\n",
       "  'bountyGold': 1425,\n",
       "  'buffsStolen': 0,\n",
       "  'completeSupportQuestInTime': 0,\n",
       "  'controlWardsPlaced': 0,\n",
       "  'damagePerMinute': 1490.7601622265968,\n",
       "  'damageTakenOnTeamPercentage': 0.21949835268380696,\n",
       "  'dancedWithRiftHerald': 0,\n",
       "  'deathsByEnemyChamps': 21,\n",
       "  'dodgeSkillShotsSmallWindow': 13,\n",
       "  'doubleAces': 0,\n",
       "  'dragonTakedowns': 0,\n",
       "  'earlyLaningPhaseGoldExpAdvantage': 0,\n",
       "  'effectiveHealAndShielding': 0,\n",
       "  'elderDragonKillsWithOpposingSoul': 0,\n",
       "  'elderDragonMultikills': 0,\n",
       "  'enemyChampionImmobilizations': 54,\n",
       "  'enemyJungleMonsterKills': 0,\n",
       "  'epicMonsterKillsNearEnemyJungler': 0,\n",
       "  'epicMonsterKillsWithin30SecondsOfSpawn': 0,\n",
       "  'epicMonsterSteals': 0,\n",
       "  'epicMonsterStolenWithoutSmite': 0,\n",
       "  'firstTurretKilled': 1,\n",
       "  'firstTurretKilledTime': 388.72173599999996,\n",
       "  'flawlessAces': 1,\n",
       "  'fullTeamTakedown': 4,\n",
       "  'gameLength': 1589.6399791,\n",
       "  'getTakedownsInAllLanesEarlyJungleAsLaner': 0,\n",
       "  'goldPerMinute': 708.8751319893122,\n",
       "  'hadOpenNexus': 0,\n",
       "  'immobilizeAndKillWithAlly': 11,\n",
       "  'initialBuffCount': 0,\n",
       "  'initialCrabCount': 0,\n",
       "  'jungleCsBefore10Minutes': 0,\n",
       "  'junglerTakedownsNearDamagedEpicMonster': 0,\n",
       "  'kTurretsDestroyedBeforePlatesFall': 0,\n",
       "  'kda': 2.1904761904761907,\n",
       "  'killAfterHiddenWithAlly': 5,\n",
       "  'killParticipation': 0.6388888888888888,\n",
       "  'killedChampTookFullTeamDamageSurvived': 0,\n",
       "  'killingSprees': 1,\n",
       "  'killsNearEnemyTurret': 5,\n",
       "  'killsOnOtherLanesEarlyJungleAsLaner': 0,\n",
       "  'killsOnRecentlyHealedByAramPack': 0,\n",
       "  'killsUnderOwnTurret': 3,\n",
       "  'killsWithHelpFromEpicMonster': 0,\n",
       "  'knockEnemyIntoTeamAndKill': 0,\n",
       "  'landSkillShotsEarlyGame': 57,\n",
       "  'laneMinionsFirst10Minutes': 22,\n",
       "  'laningPhaseGoldExpAdvantage': 0,\n",
       "  'legendaryCount': 0,\n",
       "  'lostAnInhibitor': 0,\n",
       "  'maxCsAdvantageOnLaneOpponent': 7,\n",
       "  'maxKillDeficit': 0,\n",
       "  'maxLevelLeadLaneOpponent': 2,\n",
       "  'mejaisFullStackInTime': 0,\n",
       "  'moreEnemyJungleThanOpponent': 0,\n",
       "  'multiKillOneSpell': 0,\n",
       "  'multiTurretRiftHeraldCount': 0,\n",
       "  'multikills': 2,\n",
       "  'multikillsAfterAggressiveFlash': 0,\n",
       "  'mythicItemUsed': 6655,\n",
       "  'outerTurretExecutesBefore10Minutes': 0,\n",
       "  'outnumberedKills': 13,\n",
       "  'outnumberedNexusKill': 0,\n",
       "  'perfectDragonSoulsTaken': 0,\n",
       "  'perfectGame': 0,\n",
       "  'pickKillWithAlly': 28,\n",
       "  'poroExplosions': 0,\n",
       "  'quickCleanse': 0,\n",
       "  'quickFirstTurret': 0,\n",
       "  'quickSoloKills': 0,\n",
       "  'riftHeraldTakedowns': 0,\n",
       "  'saveAllyFromDeath': 0,\n",
       "  'scuttleCrabKills': 0,\n",
       "  'shortestTimeToAceFromFirstTakedown': 37.82718599999998,\n",
       "  'skillshotsDodged': 66,\n",
       "  'skillshotsHit': 129,\n",
       "  'snowballsHit': 8,\n",
       "  'soloBaronKills': 0,\n",
       "  'soloKills': 2,\n",
       "  'stealthWardsPlaced': 0,\n",
       "  'survivedSingleDigitHpCount': 0,\n",
       "  'survivedThreeImmobilizesInFight': 2,\n",
       "  'takedownOnFirstTurret': 0,\n",
       "  'takedowns': 46,\n",
       "  'takedownsAfterGainingLevelAdvantage': 0,\n",
       "  'takedownsBeforeJungleMinionSpawn': 1,\n",
       "  'takedownsFirstXMinutes': 29,\n",
       "  'takedownsInAlcove': 0,\n",
       "  'takedownsInEnemyFountain': 0,\n",
       "  'teamBaronKills': 0,\n",
       "  'teamDamagePercentage': 0.19458062555435293,\n",
       "  'teamElderDragonKills': 0,\n",
       "  'teamRiftHeraldKills': 0,\n",
       "  'tookLargeDamageSurvived': 0,\n",
       "  'turretPlatesTaken': 0,\n",
       "  'turretTakedowns': 1,\n",
       "  'turretsTakenWithRiftHerald': 0,\n",
       "  'twentyMinionsIn3SecondsCount': 2,\n",
       "  'twoWardsOneSweeperCount': 0,\n",
       "  'unseenRecalls': 0,\n",
       "  'visionScoreAdvantageLaneOpponent': -1,\n",
       "  'visionScorePerMinute': 0,\n",
       "  'wardTakedowns': 0,\n",
       "  'wardTakedownsBefore20M': 0,\n",
       "  'wardsGuarded': 0},\n",
       " 'champExperience': 27938,\n",
       " 'champLevel': 18,\n",
       " 'championId': 20,\n",
       " 'championName': 'Nunu',\n",
       " 'championTransform': 0,\n",
       " 'commandPings': 0,\n",
       " 'consumablesPurchased': 2,\n",
       " 'damageDealtToBuildings': 484,\n",
       " 'damageDealtToObjectives': 484,\n",
       " 'damageDealtToTurrets': 484,\n",
       " 'damageSelfMitigated': 51116,\n",
       " 'dangerPings': 0,\n",
       " 'deaths': 21,\n",
       " 'detectorWardsPlaced': 0,\n",
       " 'doubleKills': 2,\n",
       " 'dragonKills': 0,\n",
       " 'eligibleForProgression': True,\n",
       " 'enemyMissingPings': 0,\n",
       " 'enemyVisionPings': 0,\n",
       " 'firstBloodAssist': False,\n",
       " 'firstBloodKill': False,\n",
       " 'firstTowerAssist': False,\n",
       " 'firstTowerKill': False,\n",
       " 'gameEndedInEarlySurrender': False,\n",
       " 'gameEndedInSurrender': False,\n",
       " 'getBackPings': 0,\n",
       " 'goldEarned': 18780,\n",
       " 'goldSpent': 17700,\n",
       " 'holdPings': 0,\n",
       " 'individualPosition': 'Invalid',\n",
       " 'inhibitorKills': 0,\n",
       " 'inhibitorTakedowns': 1,\n",
       " 'inhibitorsLost': 2,\n",
       " 'item0': 7013,\n",
       " 'item1': 3020,\n",
       " 'item2': 4645,\n",
       " 'item3': 3089,\n",
       " 'item4': 4629,\n",
       " 'item5': 3135,\n",
       " 'item6': 0,\n",
       " 'itemsPurchased': 20,\n",
       " 'killingSprees': 5,\n",
       " 'kills': 17,\n",
       " 'lane': 'TOP',\n",
       " 'largestCriticalStrike': 0,\n",
       " 'largestKillingSpree': 3,\n",
       " 'largestMultiKill': 2,\n",
       " 'longestTimeSpentLiving': 100,\n",
       " 'magicDamageDealt': 78942,\n",
       " 'magicDamageDealtToChampions': 36921,\n",
       " 'magicDamageTaken': 9329,\n",
       " 'needVisionPings': 0,\n",
       " 'neutralMinionsKilled': 0,\n",
       " 'nexusKills': 0,\n",
       " 'nexusLost': 1,\n",
       " 'nexusTakedowns': 0,\n",
       " 'objectivesStolen': 0,\n",
       " 'objectivesStolenAssists': 0,\n",
       " 'onMyWayPings': 0,\n",
       " 'participantId': 4,\n",
       " 'pentaKills': 0,\n",
       " 'perks': {'statPerks': {'defense': 5002, 'flex': 5008, 'offense': 5008},\n",
       "  'styles': [{'description': 'primaryStyle',\n",
       "    'selections': [{'perk': 8128, 'var1': 2010, 'var2': 29, 'var3': 0},\n",
       "     {'perk': 8126, 'var1': 979, 'var2': 0, 'var3': 0},\n",
       "     {'perk': 8138, 'var1': 30, 'var2': 0, 'var3': 0},\n",
       "     {'perk': 8106, 'var1': 5, 'var2': 0, 'var3': 0}],\n",
       "    'style': 8100},\n",
       "   {'description': 'subStyle',\n",
       "    'selections': [{'perk': 8014, 'var1': 1039, 'var2': 0, 'var3': 0},\n",
       "     {'perk': 8009, 'var1': 3442, 'var2': 0, 'var3': 0}],\n",
       "    'style': 8000}]},\n",
       " 'physicalDamageDealt': 2270,\n",
       " 'physicalDamageDealtToChampions': 571,\n",
       " 'physicalDamageTaken': 44996,\n",
       " 'profileIcon': 5270,\n",
       " 'pushPings': 0,\n",
       " 'puuid': 'RbwwcI8-WtGPKOsi2-LhGNCO5ra5nhZsS8wJnmc7r9SKawOjdX1ZjaHtBX3Bea3Zwr_2hERcJPuOBA',\n",
       " 'quadraKills': 0,\n",
       " 'riotIdName': '',\n",
       " 'riotIdTagline': '',\n",
       " 'role': 'SUPPORT',\n",
       " 'sightWardsBoughtInGame': 0,\n",
       " 'spell1Casts': 38,\n",
       " 'spell2Casts': 53,\n",
       " 'spell3Casts': 104,\n",
       " 'spell4Casts': 13,\n",
       " 'summoner1Casts': 5,\n",
       " 'summoner1Id': 4,\n",
       " 'summoner2Casts': 19,\n",
       " 'summoner2Id': 32,\n",
       " 'summonerId': 'j3CRL-uVA-IiDhkfm_oIhdcQoik2AVbiA2znV7UAaupbfME',\n",
       " 'summonerLevel': 587,\n",
       " 'summonerName': 'Yoyoooo',\n",
       " 'teamEarlySurrendered': False,\n",
       " 'teamId': 100,\n",
       " 'teamPosition': '',\n",
       " 'timeCCingOthers': 49,\n",
       " 'timePlayed': 1589,\n",
       " 'totalAllyJungleMinionsKilled': 0,\n",
       " 'totalDamageDealt': 103860,\n",
       " 'totalDamageDealtToChampions': 39496,\n",
       " 'totalDamageShieldedOnTeammates': 0,\n",
       " 'totalDamageTaken': 57937,\n",
       " 'totalEnemyJungleMinionsKilled': 0,\n",
       " 'totalHeal': 15903,\n",
       " 'totalHealsOnTeammates': 0,\n",
       " 'totalMinionsKilled': 59,\n",
       " 'totalTimeCCDealt': 196,\n",
       " 'totalTimeSpentDead': 606,\n",
       " 'totalUnitsHealed': 1,\n",
       " 'tripleKills': 0,\n",
       " 'trueDamageDealt': 22647,\n",
       " 'trueDamageDealtToChampions': 2002,\n",
       " 'trueDamageTaken': 3611,\n",
       " 'turretKills': 0,\n",
       " 'turretTakedowns': 1,\n",
       " 'turretsLost': 4,\n",
       " 'unrealKills': 0,\n",
       " 'visionClearedPings': 0,\n",
       " 'visionScore': 0,\n",
       " 'visionWardsBoughtInGame': 0,\n",
       " 'wardsKilled': 0,\n",
       " 'wardsPlaced': 0,\n",
       " 'win': False}"
      ]
     },
     "execution_count": 29,
     "metadata": {},
     "output_type": "execute_result"
    }
   ],
   "source": [
    "player_data"
   ]
  },
  {
   "cell_type": "code",
   "execution_count": 30,
   "id": "d8364fbf",
   "metadata": {},
   "outputs": [
    {
     "data": {
      "text/plain": [
       "('Yoyoooo', 'Nunu')"
      ]
     },
     "execution_count": 30,
     "metadata": {},
     "output_type": "execute_result"
    }
   ],
   "source": [
    "player_data['summonerName'],player_data['championName']"
   ]
  },
  {
   "cell_type": "code",
   "execution_count": null,
   "id": "e37e31da",
   "metadata": {},
   "outputs": [],
   "source": []
  }
 ],
 "metadata": {
  "kernelspec": {
   "display_name": "Python 3 (ipykernel)",
   "language": "python",
   "name": "python3"
  },
  "language_info": {
   "codemirror_mode": {
    "name": "ipython",
    "version": 3
   },
   "file_extension": ".py",
   "mimetype": "text/x-python",
   "name": "python",
   "nbconvert_exporter": "python",
   "pygments_lexer": "ipython3",
   "version": "3.9.12"
  }
 },
 "nbformat": 4,
 "nbformat_minor": 5
}
