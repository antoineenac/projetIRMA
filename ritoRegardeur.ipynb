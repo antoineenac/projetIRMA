{
 "cells": [
  {
   "cell_type": "code",
   "execution_count": 2,
   "id": "729bd548",
   "metadata": {},
   "outputs": [],
   "source": [
    "import requests\n",
    "import time\n",
    "import numpy as np"
   ]
  },
  {
   "cell_type": "code",
   "execution_count": null,
   "id": "0a59f254",
   "metadata": {},
   "outputs": [],
   "source": [
    "gm = np.load(\"puuids.npy\")\n",
    "m = np.load(\"masters.npy\") #jusqu'a 10000\n",
    "puuids = list(gm) + list(m)"
   ]
  },
  {
   "cell_type": "code",
   "execution_count": null,
   "id": "921b85e7",
   "metadata": {},
   "outputs": [],
   "source": [
    "key = ''"
   ]
  },
  {
   "cell_type": "code",
   "execution_count": 74,
   "id": "d8e1201e",
   "metadata": {},
   "outputs": [],
   "source": [
    "def get_puuid(puuids,list_player,key):\n",
    "    c=1\n",
    "    for p in list_player:\n",
    "        sum_name = p['summonerName']\n",
    "        try:\n",
    "            req = requests.get('https://euw1.api.riotgames.com/lol/summoner/v4/summoners/by-name/{}?api_key={}'.format(sum_name,key))\n",
    "            r = req.json()\n",
    "            puuid = r['puuid']\n",
    "            puuids.append(puuid)\n",
    "        except Exception:\n",
    "            pass\n",
    "        time.sleep(0.9)\n",
    "        print(len(puuids))\n",
    "        #print(puuid)\n",
    "        c+=1"
   ]
  },
  {
   "cell_type": "code",
   "execution_count": 10,
   "id": "547eca0e",
   "metadata": {},
   "outputs": [],
   "source": [
    "def get_matches_id(m_ids,puuids,key):\n",
    "    c=1\n",
    "    for p in puuids:\n",
    "        req = requests.get('https://europe.api.riotgames.com/lol/match/v5/matches/by-puuid/{}/ids?start=0&count=99&api_key={}'.format(p,key))\n",
    "        r = req.json()\n",
    "        try:\n",
    "            for m in r:\n",
    "                m_ids.append(m)\n",
    "        except:\n",
    "            print(r)\n",
    "        time.sleep(0.9)\n",
    "        print(len(m_ids))\n",
    "        c+=1"
   ]
  },
  {
   "cell_type": "code",
   "execution_count": 22,
   "id": "af55392e",
   "metadata": {},
   "outputs": [],
   "source": [
    "GM_Match = np.load(\"grand_matches_id.npy\")\n",
    "\n",
    "M_Match = np.load(\"master_matches40000.npy\") # Jusqu'a 400000 (avec doublon)"
   ]
  },
  {
   "cell_type": "code",
   "execution_count": 25,
   "id": "a0d9c564",
   "metadata": {},
   "outputs": [],
   "source": [
    "m_ids = list(GM_Match) + list(M_Match)\n",
    "m_ids = list(set(m_ids))"
   ]
  },
  {
   "cell_type": "code",
   "execution_count": 26,
   "id": "9e600751",
   "metadata": {},
   "outputs": [
    {
     "data": {
      "text/plain": [
       "319241"
      ]
     },
     "execution_count": 26,
     "metadata": {},
     "output_type": "execute_result"
    }
   ],
   "source": [
    "len(m_ids)"
   ]
  },
  {
   "cell_type": "code",
   "execution_count": 27,
   "id": "48da100c",
   "metadata": {},
   "outputs": [],
   "source": [
    "def add_match(match_id,api_key):\n",
    "    req = 'https://europe.api.riotgames.com/lol/match/v5/matches/{}?api_key={}'.format(match_id,api_key)\n",
    "    r = requests.get(req)\n",
    "    match_info = r.json()\n",
    "    if match_info['info']['queueId']==420:\n",
    "        Blue,Red = [],[]\n",
    "        players = match_info['info']['participants']\n",
    "        Winner = \"Blue\" if players[0]['win'] else \"Red\"\n",
    "        for i in range(len(players)):\n",
    "            if i<5:\n",
    "                Blue.append(players[i]['individualPosition'])\n",
    "                Blue.append(players[i]['championName'])\n",
    "            else:\n",
    "                Red.append(players[i]['individualPosition'])\n",
    "                Red.append(players[i]['championName'])\n",
    "        Match = [Blue,Red,Winner]\n",
    "    return Match"
   ]
  },
  {
   "cell_type": "code",
   "execution_count": null,
   "id": "fe387c96",
   "metadata": {},
   "outputs": [],
   "source": [
    "Matchs = []"
   ]
  },
  {
   "cell_type": "code",
   "execution_count": null,
   "id": "e50a4d8e",
   "metadata": {},
   "outputs": [],
   "source": [
    "def match(Matchs,m_ids):\n",
    "    for m in m_ids:\n",
    "        Matchs.append(Matchs)"
   ]
  }
 ],
 "metadata": {
  "kernelspec": {
   "display_name": "Python 3 (ipykernel)",
   "language": "python",
   "name": "python3"
  },
  "language_info": {
   "codemirror_mode": {
    "name": "ipython",
    "version": 3
   },
   "file_extension": ".py",
   "mimetype": "text/x-python",
   "name": "python",
   "nbconvert_exporter": "python",
   "pygments_lexer": "ipython3",
   "version": "3.9.12"
  }
 },
 "nbformat": 4,
 "nbformat_minor": 5
}
