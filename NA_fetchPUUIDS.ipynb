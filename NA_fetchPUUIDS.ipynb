{
 "cells": [
  {
   "cell_type": "code",
   "execution_count": null,
   "id": "251f2427",
   "metadata": {},
   "outputs": [],
   "source": [
    "import requests\n",
    "import time\n",
    "import numpy as np"
   ]
  },
  {
   "cell_type": "code",
   "execution_count": null,
   "id": "bffcc514",
   "metadata": {},
   "outputs": [],
   "source": [
    "def get_puuid(list_player,key):\n",
    "    puuids = []\n",
    "    for sum_name in list_player:\n",
    "        try:\n",
    "            req = requests.get('https://na1.api.riotgames.com/lol/summoner/v4/summoners/by-name/{}?api_key={}'.format(region,sum_name,key))\n",
    "            r = req.json()\n",
    "            puuid = r['puuid']\n",
    "            puuids.append(puuid)\n",
    "        except Exception as e:\n",
    "            print(e)\n",
    "        time.sleep(0.9)\n",
    "        if len(puuids)%200==0:\n",
    "            print(\"Nombre de PUUID rapporté : {}\".format(len(puuids)))\n",
    "    return np.array(puuids)"
   ]
  },
  {
   "cell_type": "code",
   "execution_count": null,
   "id": "eca2300c",
   "metadata": {},
   "outputs": [],
   "source": [
    "NA_MASTER_names = np.load(\"NAMES\\\\NA_MASTER_names.npy\")\n",
    "NA_CHALL_names = np.load(\"NAMES\\\\NA_CHALL_names.npy\")"
   ]
  },
  {
   "cell_type": "code",
   "execution_count": null,
   "id": "9c005bb1",
   "metadata": {},
   "outputs": [],
   "source": [
    "NA_MASTER_puuids = get_puuid(NA_MASTER_names,key)\n",
    "np.save(\"PUUIDS\\\\NA_MASTER_puuids.npy\",NA_MASTER_puuids)"
   ]
  },
  {
   "cell_type": "code",
   "execution_count": null,
   "id": "4a1640c9",
   "metadata": {},
   "outputs": [],
   "source": [
    "NA_CHALL_puuids = get_puuid(NA_CHALL_names,key)\n",
    "np.save(\"PUUIDS\\\\NA_CHALL_puuids.npy\",NA_CHALL_puuids)"
   ]
  }
 ],
 "metadata": {
  "kernelspec": {
   "display_name": "Python 3 (ipykernel)",
   "language": "python",
   "name": "python3"
  },
  "language_info": {
   "codemirror_mode": {
    "name": "ipython",
    "version": 3
   },
   "file_extension": ".py",
   "mimetype": "text/x-python",
   "name": "python",
   "nbconvert_exporter": "python",
   "pygments_lexer": "ipython3",
   "version": "3.9.7"
  }
 },
 "nbformat": 4,
 "nbformat_minor": 5
}
