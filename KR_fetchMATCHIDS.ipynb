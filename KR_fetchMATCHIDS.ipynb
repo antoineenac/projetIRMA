{
 "cells": [
  {
   "cell_type": "code",
   "execution_count": 12,
   "id": "3bce39a2",
   "metadata": {},
   "outputs": [],
   "source": [
    "import requests\n",
    "import time\n",
    "import numpy as np\n",
    "import random"
   ]
  },
  {
   "cell_type": "code",
   "execution_count": null,
   "id": "4fde4d52",
   "metadata": {},
   "outputs": [],
   "source": [
    "KR_MASTER_puuids = np.load('PUUIDS\\KR_MASTER_puuids.npy')\n",
    "KR_CHALL_puuids = np.load('PUUIDS\\KR_CHALL_puuids.npy')"
   ]
  },
  {
   "cell_type": "markdown",
   "id": "83d798b7",
   "metadata": {},
   "source": [
    "### On mélange les puuids des master et chall pour la recherche des matchs "
   ]
  },
  {
   "cell_type": "code",
   "execution_count": null,
   "id": "5f7cb2b5",
   "metadata": {},
   "outputs": [],
   "source": [
    "KR_puuids = random.shuffle(list(KR_MASTER_puuids)+list(KR_CHALL_puuids))"
   ]
  },
  {
   "cell_type": "code",
   "execution_count": 14,
   "id": "f74d25c5",
   "metadata": {},
   "outputs": [],
   "source": [
    "def get_matches_id(m_ids,puuids,key):\n",
    "    c=0\n",
    "    for p in puuids:\n",
    "        req = requests.get('https://asia.api.riotgames.com/lol/match/v5/matches/by-puuid/{}/ids?start=0&count=99&api_key={}'.format(p,key))\n",
    "        r = req.json()\n",
    "        try:\n",
    "            for m in r:\n",
    "                m_ids.append(m)\n",
    "            c+=1\n",
    "        except:\n",
    "            print(r)\n",
    "        time.sleep(0.9)\n",
    "        if c%200==0:\n",
    "            print(\"Match ajoutés : {}\".format(c))"
   ]
  },
  {
   "cell_type": "markdown",
   "id": "e9651fd1",
   "metadata": {},
   "source": [
    "### Charge en mémoire les id des matchs déja trouvés"
   ]
  },
  {
   "cell_type": "code",
   "execution_count": 10,
   "id": "cff5e585",
   "metadata": {},
   "outputs": [],
   "source": [
    "KR_matchs_id = list(np.load(\"MATCHID\\KR_matchs_id.npy\"))"
   ]
  },
  {
   "cell_type": "markdown",
   "id": "cad56224",
   "metadata": {},
   "source": [
    "### Ajoute à ces matchs les derniers matchs des joueurs dont les puuids ont étés récoltés, et supprime les doublons"
   ]
  },
  {
   "cell_type": "code",
   "execution_count": null,
   "id": "fd9ba7b8",
   "metadata": {},
   "outputs": [],
   "source": [
    "get_matches_id(KR_matchs_id,KR_puuids,key)"
   ]
  },
  {
   "cell_type": "code",
   "execution_count": null,
   "id": "9c0c77f4",
   "metadata": {},
   "outputs": [],
   "source": [
    "KR_matchs_id = list(set(KR_matchs_id))"
   ]
  },
  {
   "cell_type": "code",
   "execution_count": null,
   "id": "37f865aa",
   "metadata": {},
   "outputs": [],
   "source": [
    "np.save(\"MATCHID\\KR_matchs_id.npy\",np.array(KR_matchs_id))"
   ]
  }
 ],
 "metadata": {
  "kernelspec": {
   "display_name": "Python 3 (ipykernel)",
   "language": "python",
   "name": "python3"
  },
  "language_info": {
   "codemirror_mode": {
    "name": "ipython",
    "version": 3
   },
   "file_extension": ".py",
   "mimetype": "text/x-python",
   "name": "python",
   "nbconvert_exporter": "python",
   "pygments_lexer": "ipython3",
   "version": "3.9.7"
  }
 },
 "nbformat": 4,
 "nbformat_minor": 5
}
